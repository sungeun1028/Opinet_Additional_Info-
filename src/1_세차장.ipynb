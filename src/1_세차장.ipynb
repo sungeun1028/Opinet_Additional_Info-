{
 "cells": [
  {
   "cell_type": "code",
   "execution_count": 2,
   "metadata": {
    "ExecuteTime": {
     "end_time": "2020-10-18T01:43:40.425987Z",
     "start_time": "2020-10-18T01:43:38.556954Z"
    }
   },
   "outputs": [
    {
     "name": "stdout",
     "output_type": "stream",
     "text": [
      "Collecting selenium\n",
      "  Using cached selenium-3.141.0-py2.py3-none-any.whl (904 kB)\n",
      "Requirement already satisfied: urllib3 in c:\\users\\sung\\pycharmprojects\\pygame\\venv\\lib\\site-packages (from selenium) (1.25.10)\n",
      "Installing collected packages: selenium\n",
      "Successfully installed selenium-3.141.0\n"
     ]
    },
    {
     "name": "stderr",
     "output_type": "stream",
     "text": [
      "WARNING: You are using pip version 20.2.3; however, version 20.2.4 is available.\n",
      "You should consider upgrading via the 'c:\\users\\sung\\pycharmprojects\\pygame\\venv\\scripts\\python.exe -m pip install --upgrade pip' command.\n"
     ]
    }
   ],
   "source": [
    "!pip install selenium"
   ]
  },
  {
   "cell_type": "markdown",
   "metadata": {},
   "source": [
    "# 오피넷 추가 정보 "
   ]
  },
  {
   "cell_type": "code",
   "execution_count": 14,
   "metadata": {
    "ExecuteTime": {
     "end_time": "2020-10-18T01:45:41.197124Z",
     "start_time": "2020-10-18T01:45:37.762168Z"
    }
   },
   "outputs": [],
   "source": [
    "from selenium import webdriver\n",
    "driver = webdriver.Chrome(\"C:/Users/Sung/Downloads/chromedriver.exe\")\n",
    "driver.get(\"http://www.opinet.co.kr\") # 오피넷 접속 "
   ]
  },
  {
   "cell_type": "code",
   "execution_count": 17,
   "metadata": {
    "ExecuteTime": {
     "end_time": "2020-10-18T01:46:34.121039Z",
     "start_time": "2020-10-18T01:46:34.098132Z"
    }
   },
   "outputs": [],
   "source": [
    "# 싼 주유소 찾기  \n",
    "# http://www.opinet.co.kr/searRgSelect.do -> 작동 안함, javascript 로 막음 \n",
    "driver.execute_script(\"return goSubPage(0,0,99)\")"
   ]
  },
  {
   "cell_type": "markdown",
   "metadata": {},
   "source": [
    "## 시도 리스트 "
   ]
  },
  {
   "cell_type": "code",
   "execution_count": 21,
   "metadata": {
    "ExecuteTime": {
     "end_time": "2020-10-18T01:49:38.431530Z",
     "start_time": "2020-10-18T01:49:38.324813Z"
    }
   },
   "outputs": [
    {
     "data": {
      "text/plain": [
       "['서울특별시',\n",
       " '부산광역시',\n",
       " '대구광역시',\n",
       " '인천광역시',\n",
       " '광주광역시',\n",
       " '대전광역시',\n",
       " '울산광역시',\n",
       " '세종특별자치시',\n",
       " '경기도',\n",
       " '강원도',\n",
       " '충청북도',\n",
       " '충청남도',\n",
       " '전라북도',\n",
       " '전라남도',\n",
       " '경상북도',\n",
       " '경상남도',\n",
       " '제주특별자치도']"
      ]
     },
     "execution_count": 21,
     "metadata": {},
     "output_type": "execute_result"
    }
   ],
   "source": [
    "# 시군구 리스트 \n",
    "si_list_raw = driver.find_element_by_css_selector(\"#SIDO_NM0\")\n",
    "# find_elements (find_all) / find_element (find)\n",
    "si_list = si_list_raw.find_elements_by_tag_name(\"option\") # 하위 option tag \n",
    "\n",
    "# 시군구 네임 가져오기 \n",
    "si_names = [option.get_attribute(\"value\") for option in si_list]\n",
    "si_names.remove('')\n",
    "si_names"
   ]
  },
  {
   "cell_type": "markdown",
   "metadata": {},
   "source": [
    "## 군구 리스트 "
   ]
  },
  {
   "cell_type": "code",
   "execution_count": 37,
   "metadata": {
    "ExecuteTime": {
     "end_time": "2020-10-18T02:01:49.896640Z",
     "start_time": "2020-10-18T02:01:49.749034Z"
    },
    "scrolled": true
   },
   "outputs": [
    {
     "data": {
      "text/plain": [
       "['강남구',\n",
       " '강동구',\n",
       " '강북구',\n",
       " '강서구',\n",
       " '관악구',\n",
       " '광진구',\n",
       " '구로구',\n",
       " '금천구',\n",
       " '노원구',\n",
       " '도봉구',\n",
       " '동대문구',\n",
       " '동작구',\n",
       " '마포구',\n",
       " '서대문구',\n",
       " '서초구',\n",
       " '성동구',\n",
       " '성북구',\n",
       " '송파구',\n",
       " '양천구',\n",
       " '영등포구',\n",
       " '용산구',\n",
       " '은평구',\n",
       " '종로구',\n",
       " '중구',\n",
       " '중랑구']"
      ]
     },
     "execution_count": 37,
     "metadata": {},
     "output_type": "execute_result"
    }
   ],
   "source": [
    "# 시군구 리스트 \n",
    "gu_list_raw = driver.find_element_by_xpath(\"\"\"//*[@id=\"SIGUNGU_NM0\"]\"\"\")\n",
    "# find_elements (find_all) / find_element (find)\n",
    "gu_list = gu_list_raw.find_elements_by_tag_name(\"option\") # 하위 option tag \n",
    "\n",
    "# 시군구 네임 가져오기 \n",
    "gu_names = [option.get_attribute(\"value\") for option in gu_list]\n",
    "gu_names.remove('')\n",
    "gu_names"
   ]
  },
  {
   "cell_type": "markdown",
   "metadata": {},
   "source": [
    "## 시군구 dict test"
   ]
  },
  {
   "cell_type": "code",
   "execution_count": 54,
   "metadata": {
    "ExecuteTime": {
     "end_time": "2020-10-18T02:12:05.821423Z",
     "start_time": "2020-10-18T02:12:03.712097Z"
    }
   },
   "outputs": [
    {
     "data": {
      "text/plain": [
       "{'광주광역시': ['광산구', '남구', '동구', '북구', '서구']}"
      ]
     },
     "execution_count": 54,
     "metadata": {},
     "output_type": "execute_result"
    }
   ],
   "source": [
    "# 시군구 dict 만들기 \n",
    "si_gu_list = {}\n",
    "si = si_names[4]\n",
    "element = driver.find_element_by_id(\"SIDO_NM0\")\n",
    "element.send_keys(si)\n",
    "time.sleep(2)\n",
    "\n",
    "gu_list_raw = driver.find_element_by_xpath(\"\"\"//*[@id=\"SIGUNGU_NM0\"]\"\"\")\n",
    "# find_elements (find_all) / find_element (find)\n",
    "gu_list = gu_list_raw.find_elements_by_tag_name(\"option\") # 하위 option tag \n",
    "\n",
    "# 시군구 네임 가져오기 \n",
    "gu_names = [option.get_attribute(\"value\") for option in gu_list]\n",
    "gu_names.remove('')\n",
    "si_gu_list[si] = gu_names\n",
    "si_gu_list"
   ]
  },
  {
   "cell_type": "markdown",
   "metadata": {},
   "source": [
    "## 시군구 dict "
   ]
  },
  {
   "cell_type": "code",
   "execution_count": 55,
   "metadata": {
    "ExecuteTime": {
     "end_time": "2020-10-18T02:13:33.212994Z",
     "start_time": "2020-10-18T02:12:56.791562Z"
    }
   },
   "outputs": [],
   "source": [
    "# 시군구 dict 만들기 \n",
    "import time \n",
    "from tqdm import tqdm_notebook \n",
    "\n",
    "si_len = len(si_names)\n",
    "si_gu_list = {}\n",
    "\n",
    "for i in range(si_len):\n",
    "    # 시군구 dict 만들기 \n",
    "    si = si_names[i]\n",
    "    element = driver.find_element_by_id(\"SIDO_NM0\")\n",
    "    element.send_keys(si)\n",
    "    time.sleep(2)\n",
    "\n",
    "    gu_list_raw = driver.find_element_by_xpath(\"\"\"//*[@id=\"SIGUNGU_NM0\"]\"\"\")\n",
    "    gu_list = gu_list_raw.find_elements_by_tag_name(\"option\") # 하위 option tag \n",
    "    \n",
    "    gu_names = [option.get_attribute(\"value\") for option in gu_list]\n",
    "    gu_names.remove('')\n",
    "    si_gu_list[si] = gu_names  "
   ]
  },
  {
   "cell_type": "code",
   "execution_count": 104,
   "metadata": {
    "ExecuteTime": {
     "end_time": "2020-10-18T02:53:11.318098Z",
     "start_time": "2020-10-18T02:53:11.301143Z"
    }
   },
   "outputs": [
    {
     "data": {
      "text/plain": [
       "{'서울특별시': ['강남구',\n",
       "  '강동구',\n",
       "  '강북구',\n",
       "  '강서구',\n",
       "  '관악구',\n",
       "  '광진구',\n",
       "  '구로구',\n",
       "  '금천구',\n",
       "  '노원구',\n",
       "  '도봉구',\n",
       "  '동대문구',\n",
       "  '동작구',\n",
       "  '마포구',\n",
       "  '서대문구',\n",
       "  '서초구',\n",
       "  '성동구',\n",
       "  '성북구',\n",
       "  '송파구',\n",
       "  '양천구',\n",
       "  '영등포구',\n",
       "  '용산구',\n",
       "  '은평구',\n",
       "  '종로구',\n",
       "  '중구',\n",
       "  '중랑구'],\n",
       " '부산광역시': ['강서구',\n",
       "  '금정구',\n",
       "  '기장군',\n",
       "  '남구',\n",
       "  '동구',\n",
       "  '동래구',\n",
       "  '부산진구',\n",
       "  '북구',\n",
       "  '사상구',\n",
       "  '사하구',\n",
       "  '서구',\n",
       "  '수영구',\n",
       "  '연제구',\n",
       "  '영도구',\n",
       "  '중구',\n",
       "  '해운대구'],\n",
       " '대구광역시': ['남구', '달서구', '달성군', '동구', '북구', '서구', '수성구', '중구'],\n",
       " '인천광역시': ['강화군', '계양구', '남동구', '동구', '미추홀구', '부평구', '서구', '연수구', '옹진군', '중구'],\n",
       " '광주광역시': ['광산구', '남구', '동구', '북구', '서구'],\n",
       " '대전광역시': ['대덕구', '동구', '서구', '유성구', '중구'],\n",
       " '울산광역시': ['남구', '동구', '북구', '울주군', '중구'],\n",
       " '세종특별자치시': ['세종시'],\n",
       " '경기도': ['가평군',\n",
       "  '고양시',\n",
       "  '고양시덕양구',\n",
       "  '고양시일산동구',\n",
       "  '고양시일산서구',\n",
       "  '과천시',\n",
       "  '광명시',\n",
       "  '광주시',\n",
       "  '구리시',\n",
       "  '군포시',\n",
       "  '김포시',\n",
       "  '남양주시',\n",
       "  '동두천시',\n",
       "  '부천시',\n",
       "  '성남시',\n",
       "  '성남시분당구',\n",
       "  '성남시수정구',\n",
       "  '성남시중원구',\n",
       "  '수원시',\n",
       "  '수원시권선구',\n",
       "  '수원시영통구',\n",
       "  '수원시장안구',\n",
       "  '수원시팔달구',\n",
       "  '시흥시',\n",
       "  '안산시',\n",
       "  '안산시단원구',\n",
       "  '안산시상록구',\n",
       "  '안성시',\n",
       "  '안양시',\n",
       "  '안양시동안구',\n",
       "  '안양시만안구',\n",
       "  '양주시',\n",
       "  '양평군',\n",
       "  '여주시',\n",
       "  '연천군',\n",
       "  '오산시',\n",
       "  '용인시',\n",
       "  '용인시기흥구',\n",
       "  '용인시수지구',\n",
       "  '용인시처인구',\n",
       "  '의왕시',\n",
       "  '의정부시',\n",
       "  '이천시',\n",
       "  '파주시',\n",
       "  '평택시',\n",
       "  '포천시',\n",
       "  '하남시',\n",
       "  '화성시'],\n",
       " '강원도': ['강릉시',\n",
       "  '고성군',\n",
       "  '동해시',\n",
       "  '삼척시',\n",
       "  '속초시',\n",
       "  '양구군',\n",
       "  '양양군',\n",
       "  '영월군',\n",
       "  '원주시',\n",
       "  '인제군',\n",
       "  '정선군',\n",
       "  '철원군',\n",
       "  '춘천시',\n",
       "  '태백시',\n",
       "  '평창군',\n",
       "  '홍천군',\n",
       "  '화천군',\n",
       "  '횡성군'],\n",
       " '충청북도': ['괴산군',\n",
       "  '단양군',\n",
       "  '보은군',\n",
       "  '영동군',\n",
       "  '옥천군',\n",
       "  '음성군',\n",
       "  '제천시',\n",
       "  '증평군',\n",
       "  '진천군',\n",
       "  '청주시',\n",
       "  '청주시상당구',\n",
       "  '청주시서원구',\n",
       "  '청주시청원구',\n",
       "  '청주시흥덕구',\n",
       "  '충주시'],\n",
       " '충청남도': ['계룡시',\n",
       "  '공주시',\n",
       "  '금산군',\n",
       "  '논산시',\n",
       "  '당진시',\n",
       "  '보령시',\n",
       "  '부여군',\n",
       "  '서산시',\n",
       "  '서천군',\n",
       "  '아산시',\n",
       "  '연기군',\n",
       "  '예산군',\n",
       "  '천안시',\n",
       "  '천안시동남구',\n",
       "  '천안시서북구',\n",
       "  '청양군',\n",
       "  '태안군',\n",
       "  '홍성군'],\n",
       " '전라북도': ['고창군',\n",
       "  '군산시',\n",
       "  '김제시',\n",
       "  '남원시',\n",
       "  '무주군',\n",
       "  '부안군',\n",
       "  '순창군',\n",
       "  '완주군',\n",
       "  '익산시',\n",
       "  '임실군',\n",
       "  '장수군',\n",
       "  '전주시',\n",
       "  '전주시덕진구',\n",
       "  '전주시완산구',\n",
       "  '정읍시',\n",
       "  '진안군'],\n",
       " '전라남도': ['강진군',\n",
       "  '고흥군',\n",
       "  '곡성군',\n",
       "  '광양시',\n",
       "  '구례군',\n",
       "  '나주시',\n",
       "  '담양군',\n",
       "  '목포시',\n",
       "  '무안군',\n",
       "  '보성군',\n",
       "  '순천시',\n",
       "  '신안군',\n",
       "  '여수시',\n",
       "  '영광군',\n",
       "  '영암군',\n",
       "  '완도군',\n",
       "  '장성군',\n",
       "  '장흥군',\n",
       "  '진도군',\n",
       "  '함평군',\n",
       "  '해남군',\n",
       "  '화순군'],\n",
       " '경상북도': ['경산시',\n",
       "  '경주시',\n",
       "  '고령군',\n",
       "  '구미시',\n",
       "  '군위군',\n",
       "  '김천시',\n",
       "  '문경시',\n",
       "  '봉화군',\n",
       "  '상주시',\n",
       "  '성주군',\n",
       "  '안동시',\n",
       "  '영덕군',\n",
       "  '영양군',\n",
       "  '영주시',\n",
       "  '영천시',\n",
       "  '예천군',\n",
       "  '울릉군',\n",
       "  '울진군',\n",
       "  '의성군',\n",
       "  '청도군',\n",
       "  '청송군',\n",
       "  '칠곡군',\n",
       "  '포항시',\n",
       "  '포항시남구',\n",
       "  '포항시북구'],\n",
       " '경상남도': ['거제시',\n",
       "  '거창군',\n",
       "  '고성군',\n",
       "  '김해시',\n",
       "  '남해군',\n",
       "  '밀양시',\n",
       "  '사천시',\n",
       "  '산청군',\n",
       "  '양산시',\n",
       "  '의령군',\n",
       "  '진주시',\n",
       "  '창녕군',\n",
       "  '창원시',\n",
       "  '창원시마산합포구',\n",
       "  '창원시마산회원구',\n",
       "  '창원시성산구',\n",
       "  '창원시의창구',\n",
       "  '창원시진해구',\n",
       "  '통영시',\n",
       "  '하동군',\n",
       "  '함안군',\n",
       "  '함양군',\n",
       "  '합천군'],\n",
       " '제주특별자치도': ['서귀포시', '제주시']}"
      ]
     },
     "execution_count": 104,
     "metadata": {},
     "output_type": "execute_result"
    }
   ],
   "source": [
    "si_gu_list"
   ]
  },
  {
   "cell_type": "markdown",
   "metadata": {},
   "source": [
    "## 부가정보 선택 "
   ]
  },
  {
   "cell_type": "code",
   "execution_count": 85,
   "metadata": {
    "ExecuteTime": {
     "end_time": "2020-10-18T02:24:10.011355Z",
     "start_time": "2020-10-18T02:24:09.936590Z"
    }
   },
   "outputs": [],
   "source": [
    "# 세차장 선택 \n",
    "car_wash = driver.find_element_by_css_selector('#CWSH_YN').click()\n",
    "car_wash = driver.find_element_by_css_selector('#CWSH_YN').click()"
   ]
  },
  {
   "cell_type": "code",
   "execution_count": 79,
   "metadata": {
    "ExecuteTime": {
     "end_time": "2020-10-18T02:23:58.005880Z",
     "start_time": "2020-10-18T02:23:57.938065Z"
    }
   },
   "outputs": [],
   "source": [
    "# 경정비 선택\n",
    "repair = driver.find_element_by_css_selector('#MAINT_YN').click()\n",
    "repair = driver.find_element_by_css_selector('#MAINT_YN').click()"
   ]
  },
  {
   "cell_type": "code",
   "execution_count": 87,
   "metadata": {
    "ExecuteTime": {
     "end_time": "2020-10-18T02:24:41.979488Z",
     "start_time": "2020-10-18T02:24:41.914649Z"
    }
   },
   "outputs": [],
   "source": [
    "# 편의점 선택 \n",
    "conv_store = driver.find_element_by_css_selector('#CVS_YN').click()\n",
    "conv_store = driver.find_element_by_css_selector('#CVS_YN').click()"
   ]
  },
  {
   "cell_type": "code",
   "execution_count": 89,
   "metadata": {
    "ExecuteTime": {
     "end_time": "2020-10-18T02:24:43.563241Z",
     "start_time": "2020-10-18T02:24:43.491432Z"
    }
   },
   "outputs": [],
   "source": [
    "# 24시간 선택 \n",
    "all247 = driver.find_element_by_css_selector('#SEL24_YN').click()\n",
    "all247 = driver.find_element_by_css_selector('#SEL24_YN').click()"
   ]
  },
  {
   "cell_type": "markdown",
   "metadata": {},
   "source": [
    "# 시군구 전체 주유소 가져오기 "
   ]
  },
  {
   "cell_type": "markdown",
   "metadata": {},
   "source": [
    "## 세차장 정보 더미 "
   ]
  },
  {
   "cell_type": "code",
   "execution_count": 91,
   "metadata": {
    "ExecuteTime": {
     "end_time": "2020-10-18T02:26:13.522960Z",
     "start_time": "2020-10-18T02:26:13.516975Z"
    }
   },
   "outputs": [
    {
     "data": {
      "text/plain": [
       "17"
      ]
     },
     "execution_count": 91,
     "metadata": {},
     "output_type": "execute_result"
    }
   ],
   "source": [
    "len(si_names)"
   ]
  },
  {
   "cell_type": "code",
   "execution_count": 108,
   "metadata": {
    "ExecuteTime": {
     "end_time": "2020-10-18T02:57:33.769243Z",
     "start_time": "2020-10-18T02:57:33.763258Z"
    },
    "scrolled": true
   },
   "outputs": [
    {
     "data": {
      "text/plain": [
       "['가평군',\n",
       " '고양시',\n",
       " '고양시덕양구',\n",
       " '고양시일산동구',\n",
       " '고양시일산서구',\n",
       " '과천시',\n",
       " '광명시',\n",
       " '광주시',\n",
       " '구리시',\n",
       " '군포시',\n",
       " '김포시',\n",
       " '남양주시',\n",
       " '동두천시',\n",
       " '부천시',\n",
       " '성남시',\n",
       " '성남시분당구',\n",
       " '성남시수정구',\n",
       " '성남시중원구',\n",
       " '수원시',\n",
       " '수원시권선구',\n",
       " '수원시영통구',\n",
       " '수원시장안구',\n",
       " '수원시팔달구',\n",
       " '시흥시',\n",
       " '안산시',\n",
       " '안산시단원구',\n",
       " '안산시상록구',\n",
       " '안성시',\n",
       " '안양시',\n",
       " '안양시동안구',\n",
       " '안양시만안구',\n",
       " '양주시',\n",
       " '양평군',\n",
       " '여주시',\n",
       " '연천군',\n",
       " '오산시',\n",
       " '용인시',\n",
       " '용인시기흥구',\n",
       " '용인시수지구',\n",
       " '용인시처인구',\n",
       " '의왕시',\n",
       " '의정부시',\n",
       " '이천시',\n",
       " '파주시',\n",
       " '평택시',\n",
       " '포천시',\n",
       " '하남시',\n",
       " '화성시']"
      ]
     },
     "execution_count": 108,
     "metadata": {},
     "output_type": "execute_result"
    }
   ],
   "source": [
    "si_gu_list[\"경기도\"]"
   ]
  },
  {
   "cell_type": "code",
   "execution_count": 117,
   "metadata": {
    "ExecuteTime": {
     "end_time": "2020-10-18T03:13:17.408863Z",
     "start_time": "2020-10-18T03:13:17.347029Z"
    }
   },
   "outputs": [],
   "source": [
    "# 세차장 선택 \n",
    "car_wash = driver.find_element_by_css_selector('#CWSH_YN').click()"
   ]
  },
  {
   "cell_type": "code",
   "execution_count": 118,
   "metadata": {
    "ExecuteTime": {
     "end_time": "2020-10-18T03:26:21.274562Z",
     "start_time": "2020-10-18T03:13:23.263207Z"
    }
   },
   "outputs": [
    {
     "name": "stdout",
     "output_type": "stream",
     "text": [
      "9\n",
      "10\n",
      "11\n",
      "12\n",
      "13\n",
      "14\n",
      "15\n",
      "16\n"
     ]
    }
   ],
   "source": [
    "# 지역별 주유소 찾기 \n",
    "import time \n",
    "from tqdm import tqdm_notebook\n",
    "\n",
    "si_len = len(si_names)\n",
    "for i in range(9,si_len):\n",
    "    \n",
    "    print(i)\n",
    "    \n",
    "    # 시 입력 \n",
    "    si = si_names[i]\n",
    "    element = driver.find_element_by_id(\"SIDO_NM0\")\n",
    "    element.send_keys(si)\n",
    "    time.sleep(2)\n",
    "    \n",
    "    # 구 입력 \n",
    "    gu_len = len(si_gu_list[si])\n",
    "    for j in range(gu_len):\n",
    "\n",
    "        element = driver.find_element_by_id(\"SIGUNGU_NM0\")\n",
    "        element.send_keys(si_gu_list[si][j])\n",
    "        time.sleep(2)\n",
    "\n",
    "        # 조회 버튼 \n",
    "        xpath = \"\"\"//*[@id=\"searRgSelect\"]/span\"\"\"\n",
    "        element_sel_gu = driver.find_element_by_xpath(xpath).click()\n",
    "\n",
    "        time.sleep(1)\n",
    "\n",
    "        # 엑셀 저장 \n",
    "        xpath = \"\"\"//*[@id=\"glopopd_excel\"]/span\"\"\"\n",
    "        element_get_excel = driver.find_element_by_xpath(xpath).click()\n",
    "\n",
    "        time.sleep(1)"
   ]
  },
  {
   "cell_type": "markdown",
   "metadata": {},
   "source": [
    "# 데이터 정리 "
   ]
  },
  {
   "cell_type": "code",
   "execution_count": 125,
   "metadata": {
    "ExecuteTime": {
     "end_time": "2020-10-18T03:30:00.712215Z",
     "start_time": "2020-10-18T03:29:59.796663Z"
    }
   },
   "outputs": [],
   "source": [
    "import pandas as pd \n",
    "from glob import glob # 파일 경로를 쉽게 접근할 수 있게 해주는 모듈"
   ]
  },
  {
   "cell_type": "code",
   "execution_count": 128,
   "metadata": {
    "ExecuteTime": {
     "end_time": "2020-10-18T03:30:11.912262Z",
     "start_time": "2020-10-18T03:30:11.894310Z"
    }
   },
   "outputs": [
    {
     "data": {
      "text/plain": [
       "['C:/Users/Sung/Downloads/세차장\\\\지역_위치별(주유소) (1).xls',\n",
       " 'C:/Users/Sung/Downloads/세차장\\\\지역_위치별(주유소) (10).xls',\n",
       " 'C:/Users/Sung/Downloads/세차장\\\\지역_위치별(주유소) (100).xls',\n",
       " 'C:/Users/Sung/Downloads/세차장\\\\지역_위치별(주유소) (11).xls',\n",
       " 'C:/Users/Sung/Downloads/세차장\\\\지역_위치별(주유소) (12).xls',\n",
       " 'C:/Users/Sung/Downloads/세차장\\\\지역_위치별(주유소) (13).xls',\n",
       " 'C:/Users/Sung/Downloads/세차장\\\\지역_위치별(주유소) (14).xls',\n",
       " 'C:/Users/Sung/Downloads/세차장\\\\지역_위치별(주유소) (15).xls',\n",
       " 'C:/Users/Sung/Downloads/세차장\\\\지역_위치별(주유소) (16).xls',\n",
       " 'C:/Users/Sung/Downloads/세차장\\\\지역_위치별(주유소) (17).xls',\n",
       " 'C:/Users/Sung/Downloads/세차장\\\\지역_위치별(주유소) (18).xls',\n",
       " 'C:/Users/Sung/Downloads/세차장\\\\지역_위치별(주유소) (19).xls',\n",
       " 'C:/Users/Sung/Downloads/세차장\\\\지역_위치별(주유소) (2).xls',\n",
       " 'C:/Users/Sung/Downloads/세차장\\\\지역_위치별(주유소) (20).xls',\n",
       " 'C:/Users/Sung/Downloads/세차장\\\\지역_위치별(주유소) (21).xls',\n",
       " 'C:/Users/Sung/Downloads/세차장\\\\지역_위치별(주유소) (22).xls',\n",
       " 'C:/Users/Sung/Downloads/세차장\\\\지역_위치별(주유소) (23).xls',\n",
       " 'C:/Users/Sung/Downloads/세차장\\\\지역_위치별(주유소) (24).xls',\n",
       " 'C:/Users/Sung/Downloads/세차장\\\\지역_위치별(주유소) (25).xls',\n",
       " 'C:/Users/Sung/Downloads/세차장\\\\지역_위치별(주유소) (26).xls',\n",
       " 'C:/Users/Sung/Downloads/세차장\\\\지역_위치별(주유소) (27).xls',\n",
       " 'C:/Users/Sung/Downloads/세차장\\\\지역_위치별(주유소) (28).xls',\n",
       " 'C:/Users/Sung/Downloads/세차장\\\\지역_위치별(주유소) (29).xls',\n",
       " 'C:/Users/Sung/Downloads/세차장\\\\지역_위치별(주유소) (3).xls',\n",
       " 'C:/Users/Sung/Downloads/세차장\\\\지역_위치별(주유소) (30).xls',\n",
       " 'C:/Users/Sung/Downloads/세차장\\\\지역_위치별(주유소) (31).xls',\n",
       " 'C:/Users/Sung/Downloads/세차장\\\\지역_위치별(주유소) (32).xls',\n",
       " 'C:/Users/Sung/Downloads/세차장\\\\지역_위치별(주유소) (33).xls',\n",
       " 'C:/Users/Sung/Downloads/세차장\\\\지역_위치별(주유소) (34).xls',\n",
       " 'C:/Users/Sung/Downloads/세차장\\\\지역_위치별(주유소) (35).xls',\n",
       " 'C:/Users/Sung/Downloads/세차장\\\\지역_위치별(주유소) (36).xls',\n",
       " 'C:/Users/Sung/Downloads/세차장\\\\지역_위치별(주유소) (37).xls',\n",
       " 'C:/Users/Sung/Downloads/세차장\\\\지역_위치별(주유소) (38).xls',\n",
       " 'C:/Users/Sung/Downloads/세차장\\\\지역_위치별(주유소) (39).xls',\n",
       " 'C:/Users/Sung/Downloads/세차장\\\\지역_위치별(주유소) (4).xls',\n",
       " 'C:/Users/Sung/Downloads/세차장\\\\지역_위치별(주유소) (40).xls',\n",
       " 'C:/Users/Sung/Downloads/세차장\\\\지역_위치별(주유소) (41).xls',\n",
       " 'C:/Users/Sung/Downloads/세차장\\\\지역_위치별(주유소) (42).xls',\n",
       " 'C:/Users/Sung/Downloads/세차장\\\\지역_위치별(주유소) (43).xls',\n",
       " 'C:/Users/Sung/Downloads/세차장\\\\지역_위치별(주유소) (44).xls',\n",
       " 'C:/Users/Sung/Downloads/세차장\\\\지역_위치별(주유소) (45).xls',\n",
       " 'C:/Users/Sung/Downloads/세차장\\\\지역_위치별(주유소) (46).xls',\n",
       " 'C:/Users/Sung/Downloads/세차장\\\\지역_위치별(주유소) (47).xls',\n",
       " 'C:/Users/Sung/Downloads/세차장\\\\지역_위치별(주유소) (48).xls',\n",
       " 'C:/Users/Sung/Downloads/세차장\\\\지역_위치별(주유소) (49).xls',\n",
       " 'C:/Users/Sung/Downloads/세차장\\\\지역_위치별(주유소) (5).xls',\n",
       " 'C:/Users/Sung/Downloads/세차장\\\\지역_위치별(주유소) (50).xls',\n",
       " 'C:/Users/Sung/Downloads/세차장\\\\지역_위치별(주유소) (51).xls',\n",
       " 'C:/Users/Sung/Downloads/세차장\\\\지역_위치별(주유소) (52).xls',\n",
       " 'C:/Users/Sung/Downloads/세차장\\\\지역_위치별(주유소) (53).xls',\n",
       " 'C:/Users/Sung/Downloads/세차장\\\\지역_위치별(주유소) (54).xls',\n",
       " 'C:/Users/Sung/Downloads/세차장\\\\지역_위치별(주유소) (55).xls',\n",
       " 'C:/Users/Sung/Downloads/세차장\\\\지역_위치별(주유소) (56).xls',\n",
       " 'C:/Users/Sung/Downloads/세차장\\\\지역_위치별(주유소) (57).xls',\n",
       " 'C:/Users/Sung/Downloads/세차장\\\\지역_위치별(주유소) (58).xls',\n",
       " 'C:/Users/Sung/Downloads/세차장\\\\지역_위치별(주유소) (59).xls',\n",
       " 'C:/Users/Sung/Downloads/세차장\\\\지역_위치별(주유소) (6).xls',\n",
       " 'C:/Users/Sung/Downloads/세차장\\\\지역_위치별(주유소) (60).xls',\n",
       " 'C:/Users/Sung/Downloads/세차장\\\\지역_위치별(주유소) (61).xls',\n",
       " 'C:/Users/Sung/Downloads/세차장\\\\지역_위치별(주유소) (62).xls',\n",
       " 'C:/Users/Sung/Downloads/세차장\\\\지역_위치별(주유소) (63).xls',\n",
       " 'C:/Users/Sung/Downloads/세차장\\\\지역_위치별(주유소) (64).xls',\n",
       " 'C:/Users/Sung/Downloads/세차장\\\\지역_위치별(주유소) (65).xls',\n",
       " 'C:/Users/Sung/Downloads/세차장\\\\지역_위치별(주유소) (66).xls',\n",
       " 'C:/Users/Sung/Downloads/세차장\\\\지역_위치별(주유소) (67).xls',\n",
       " 'C:/Users/Sung/Downloads/세차장\\\\지역_위치별(주유소) (68).xls',\n",
       " 'C:/Users/Sung/Downloads/세차장\\\\지역_위치별(주유소) (69).xls',\n",
       " 'C:/Users/Sung/Downloads/세차장\\\\지역_위치별(주유소) (7).xls',\n",
       " 'C:/Users/Sung/Downloads/세차장\\\\지역_위치별(주유소) (70).xls',\n",
       " 'C:/Users/Sung/Downloads/세차장\\\\지역_위치별(주유소) (71).xls',\n",
       " 'C:/Users/Sung/Downloads/세차장\\\\지역_위치별(주유소) (72).xls',\n",
       " 'C:/Users/Sung/Downloads/세차장\\\\지역_위치별(주유소) (73).xls',\n",
       " 'C:/Users/Sung/Downloads/세차장\\\\지역_위치별(주유소) (74).xls',\n",
       " 'C:/Users/Sung/Downloads/세차장\\\\지역_위치별(주유소) (75).xls',\n",
       " 'C:/Users/Sung/Downloads/세차장\\\\지역_위치별(주유소) (76).xls',\n",
       " 'C:/Users/Sung/Downloads/세차장\\\\지역_위치별(주유소) (77).xls',\n",
       " 'C:/Users/Sung/Downloads/세차장\\\\지역_위치별(주유소) (78).xls',\n",
       " 'C:/Users/Sung/Downloads/세차장\\\\지역_위치별(주유소) (79).xls',\n",
       " 'C:/Users/Sung/Downloads/세차장\\\\지역_위치별(주유소) (8).xls',\n",
       " 'C:/Users/Sung/Downloads/세차장\\\\지역_위치별(주유소) (80).xls',\n",
       " 'C:/Users/Sung/Downloads/세차장\\\\지역_위치별(주유소) (81).xls',\n",
       " 'C:/Users/Sung/Downloads/세차장\\\\지역_위치별(주유소) (82).xls',\n",
       " 'C:/Users/Sung/Downloads/세차장\\\\지역_위치별(주유소) (83).xls',\n",
       " 'C:/Users/Sung/Downloads/세차장\\\\지역_위치별(주유소) (84).xls',\n",
       " 'C:/Users/Sung/Downloads/세차장\\\\지역_위치별(주유소) (85).xls',\n",
       " 'C:/Users/Sung/Downloads/세차장\\\\지역_위치별(주유소) (86).xls',\n",
       " 'C:/Users/Sung/Downloads/세차장\\\\지역_위치별(주유소) (87).xls',\n",
       " 'C:/Users/Sung/Downloads/세차장\\\\지역_위치별(주유소) (88).xls',\n",
       " 'C:/Users/Sung/Downloads/세차장\\\\지역_위치별(주유소) (89).xls',\n",
       " 'C:/Users/Sung/Downloads/세차장\\\\지역_위치별(주유소) (9).xls',\n",
       " 'C:/Users/Sung/Downloads/세차장\\\\지역_위치별(주유소) (90).xls',\n",
       " 'C:/Users/Sung/Downloads/세차장\\\\지역_위치별(주유소) (91).xls',\n",
       " 'C:/Users/Sung/Downloads/세차장\\\\지역_위치별(주유소) (92).xls',\n",
       " 'C:/Users/Sung/Downloads/세차장\\\\지역_위치별(주유소) (93).xls',\n",
       " 'C:/Users/Sung/Downloads/세차장\\\\지역_위치별(주유소) (94).xls',\n",
       " 'C:/Users/Sung/Downloads/세차장\\\\지역_위치별(주유소) (95).xls',\n",
       " 'C:/Users/Sung/Downloads/세차장\\\\지역_위치별(주유소) (96).xls',\n",
       " 'C:/Users/Sung/Downloads/세차장\\\\지역_위치별(주유소) (97).xls',\n",
       " 'C:/Users/Sung/Downloads/세차장\\\\지역_위치별(주유소) (98).xls',\n",
       " 'C:/Users/Sung/Downloads/세차장\\\\지역_위치별(주유소) (99).xls',\n",
       " 'C:/Users/Sung/Downloads/세차장\\\\지역_위치별(주유소) - 2020-10-18T120534.178.xls',\n",
       " 'C:/Users/Sung/Downloads/세차장\\\\지역_위치별(주유소) - 2020-10-18T120539.987.xls',\n",
       " 'C:/Users/Sung/Downloads/세차장\\\\지역_위치별(주유소) - 2020-10-18T120546.483.xls',\n",
       " 'C:/Users/Sung/Downloads/세차장\\\\지역_위치별(주유소) - 2020-10-18T120552.219.xls',\n",
       " 'C:/Users/Sung/Downloads/세차장\\\\지역_위치별(주유소) - 2020-10-18T120557.745.xls',\n",
       " 'C:/Users/Sung/Downloads/세차장\\\\지역_위치별(주유소) - 2020-10-18T120603.191.xls',\n",
       " 'C:/Users/Sung/Downloads/세차장\\\\지역_위치별(주유소) - 2020-10-18T120609.604.xls',\n",
       " 'C:/Users/Sung/Downloads/세차장\\\\지역_위치별(주유소) - 2020-10-18T120615.562.xls',\n",
       " 'C:/Users/Sung/Downloads/세차장\\\\지역_위치별(주유소) - 2020-10-18T120622.549.xls',\n",
       " 'C:/Users/Sung/Downloads/세차장\\\\지역_위치별(주유소) - 2020-10-18T120628.062.xls',\n",
       " 'C:/Users/Sung/Downloads/세차장\\\\지역_위치별(주유소) - 2020-10-18T120633.704.xls',\n",
       " 'C:/Users/Sung/Downloads/세차장\\\\지역_위치별(주유소) - 2020-10-18T120641.537.xls',\n",
       " 'C:/Users/Sung/Downloads/세차장\\\\지역_위치별(주유소) - 2020-10-18T120647.666.xls',\n",
       " 'C:/Users/Sung/Downloads/세차장\\\\지역_위치별(주유소) - 2020-10-18T120653.023.xls',\n",
       " 'C:/Users/Sung/Downloads/세차장\\\\지역_위치별(주유소) - 2020-10-18T120659.606.xls',\n",
       " 'C:/Users/Sung/Downloads/세차장\\\\지역_위치별(주유소) - 2020-10-18T120705.130.xls',\n",
       " 'C:/Users/Sung/Downloads/세차장\\\\지역_위치별(주유소) - 2020-10-18T120710.727.xls',\n",
       " 'C:/Users/Sung/Downloads/세차장\\\\지역_위치별(주유소) - 2020-10-18T120717.568.xls',\n",
       " 'C:/Users/Sung/Downloads/세차장\\\\지역_위치별(주유소) - 2020-10-18T120724.646.xls',\n",
       " 'C:/Users/Sung/Downloads/세차장\\\\지역_위치별(주유소) - 2020-10-18T120731.702.xls',\n",
       " 'C:/Users/Sung/Downloads/세차장\\\\지역_위치별(주유소) - 2020-10-18T120738.370.xls',\n",
       " 'C:/Users/Sung/Downloads/세차장\\\\지역_위치별(주유소) - 2020-10-18T120743.881.xls',\n",
       " 'C:/Users/Sung/Downloads/세차장\\\\지역_위치별(주유소) - 2020-10-18T120752.285.xls',\n",
       " 'C:/Users/Sung/Downloads/세차장\\\\지역_위치별(주유소) - 2020-10-18T121330.498.xls',\n",
       " 'C:/Users/Sung/Downloads/세차장\\\\지역_위치별(주유소) - 2020-10-18T121335.588.xls',\n",
       " 'C:/Users/Sung/Downloads/세차장\\\\지역_위치별(주유소) - 2020-10-18T121340.724.xls',\n",
       " 'C:/Users/Sung/Downloads/세차장\\\\지역_위치별(주유소) - 2020-10-18T121345.837.xls',\n",
       " 'C:/Users/Sung/Downloads/세차장\\\\지역_위치별(주유소) - 2020-10-18T121351.063.xls',\n",
       " 'C:/Users/Sung/Downloads/세차장\\\\지역_위치별(주유소) - 2020-10-18T121356.122.xls',\n",
       " 'C:/Users/Sung/Downloads/세차장\\\\지역_위치별(주유소) - 2020-10-18T121401.404.xls',\n",
       " 'C:/Users/Sung/Downloads/세차장\\\\지역_위치별(주유소) - 2020-10-18T121406.593.xls',\n",
       " 'C:/Users/Sung/Downloads/세차장\\\\지역_위치별(주유소) - 2020-10-18T121412.378.xls',\n",
       " 'C:/Users/Sung/Downloads/세차장\\\\지역_위치별(주유소) - 2020-10-18T121417.390.xls',\n",
       " 'C:/Users/Sung/Downloads/세차장\\\\지역_위치별(주유소) - 2020-10-18T121422.710.xls',\n",
       " 'C:/Users/Sung/Downloads/세차장\\\\지역_위치별(주유소) - 2020-10-18T121428.458.xls',\n",
       " 'C:/Users/Sung/Downloads/세차장\\\\지역_위치별(주유소) - 2020-10-18T121434.190.xls',\n",
       " 'C:/Users/Sung/Downloads/세차장\\\\지역_위치별(주유소) - 2020-10-18T121439.224.xls',\n",
       " 'C:/Users/Sung/Downloads/세차장\\\\지역_위치별(주유소) - 2020-10-18T121444.837.xls',\n",
       " 'C:/Users/Sung/Downloads/세차장\\\\지역_위치별(주유소) - 2020-10-18T121449.962.xls',\n",
       " 'C:/Users/Sung/Downloads/세차장\\\\지역_위치별(주유소) - 2020-10-18T121455.604.xls',\n",
       " 'C:/Users/Sung/Downloads/세차장\\\\지역_위치별(주유소) - 2020-10-18T121501.350.xls',\n",
       " 'C:/Users/Sung/Downloads/세차장\\\\지역_위치별(주유소) - 2020-10-18T121508.526.xls',\n",
       " 'C:/Users/Sung/Downloads/세차장\\\\지역_위치별(주유소) - 2020-10-18T121513.522.xls',\n",
       " 'C:/Users/Sung/Downloads/세차장\\\\지역_위치별(주유소) - 2020-10-18T121519.219.xls',\n",
       " 'C:/Users/Sung/Downloads/세차장\\\\지역_위치별(주유소) - 2020-10-18T121524.852.xls',\n",
       " 'C:/Users/Sung/Downloads/세차장\\\\지역_위치별(주유소) - 2020-10-18T121529.988.xls',\n",
       " 'C:/Users/Sung/Downloads/세차장\\\\지역_위치별(주유소) - 2020-10-18T121535.618.xls',\n",
       " 'C:/Users/Sung/Downloads/세차장\\\\지역_위치별(주유소) - 2020-10-18T121540.713.xls',\n",
       " 'C:/Users/Sung/Downloads/세차장\\\\지역_위치별(주유소) - 2020-10-18T121546.404.xls',\n",
       " 'C:/Users/Sung/Downloads/세차장\\\\지역_위치별(주유소) - 2020-10-18T121551.608.xls',\n",
       " 'C:/Users/Sung/Downloads/세차장\\\\지역_위치별(주유소) - 2020-10-18T121559.013.xls',\n",
       " 'C:/Users/Sung/Downloads/세차장\\\\지역_위치별(주유소) - 2020-10-18T121604.229.xls',\n",
       " 'C:/Users/Sung/Downloads/세차장\\\\지역_위치별(주유소) - 2020-10-18T121609.561.xls',\n",
       " 'C:/Users/Sung/Downloads/세차장\\\\지역_위치별(주유소) - 2020-10-18T121615.533.xls',\n",
       " 'C:/Users/Sung/Downloads/세차장\\\\지역_위치별(주유소) - 2020-10-18T121620.879.xls',\n",
       " 'C:/Users/Sung/Downloads/세차장\\\\지역_위치별(주유소) - 2020-10-18T121626.135.xls',\n",
       " 'C:/Users/Sung/Downloads/세차장\\\\지역_위치별(주유소) - 2020-10-18T121633.384.xls',\n",
       " 'C:/Users/Sung/Downloads/세차장\\\\지역_위치별(주유소) - 2020-10-18T121638.560.xls',\n",
       " 'C:/Users/Sung/Downloads/세차장\\\\지역_위치별(주유소) - 2020-10-18T121644.545.xls',\n",
       " 'C:/Users/Sung/Downloads/세차장\\\\지역_위치별(주유소) - 2020-10-18T121649.668.xls',\n",
       " 'C:/Users/Sung/Downloads/세차장\\\\지역_위치별(주유소) - 2020-10-18T121655.177.xls',\n",
       " 'C:/Users/Sung/Downloads/세차장\\\\지역_위치별(주유소) - 2020-10-18T121700.502.xls',\n",
       " 'C:/Users/Sung/Downloads/세차장\\\\지역_위치별(주유소) - 2020-10-18T121705.642.xls',\n",
       " 'C:/Users/Sung/Downloads/세차장\\\\지역_위치별(주유소) - 2020-10-18T121711.374.xls',\n",
       " 'C:/Users/Sung/Downloads/세차장\\\\지역_위치별(주유소) - 2020-10-18T121716.396.xls',\n",
       " 'C:/Users/Sung/Downloads/세차장\\\\지역_위치별(주유소) - 2020-10-18T121722.272.xls',\n",
       " 'C:/Users/Sung/Downloads/세차장\\\\지역_위치별(주유소) - 2020-10-18T121727.282.xls',\n",
       " 'C:/Users/Sung/Downloads/세차장\\\\지역_위치별(주유소) - 2020-10-18T121732.546.xls',\n",
       " 'C:/Users/Sung/Downloads/세차장\\\\지역_위치별(주유소) - 2020-10-18T121738.953.xls',\n",
       " 'C:/Users/Sung/Downloads/세차장\\\\지역_위치별(주유소) - 2020-10-18T121744.387.xls',\n",
       " 'C:/Users/Sung/Downloads/세차장\\\\지역_위치별(주유소) - 2020-10-18T121750.019.xls',\n",
       " 'C:/Users/Sung/Downloads/세차장\\\\지역_위치별(주유소) - 2020-10-18T121755.158.xls',\n",
       " 'C:/Users/Sung/Downloads/세차장\\\\지역_위치별(주유소) - 2020-10-18T121800.251.xls',\n",
       " 'C:/Users/Sung/Downloads/세차장\\\\지역_위치별(주유소) - 2020-10-18T121805.539.xls',\n",
       " 'C:/Users/Sung/Downloads/세차장\\\\지역_위치별(주유소) - 2020-10-18T121812.646.xls',\n",
       " 'C:/Users/Sung/Downloads/세차장\\\\지역_위치별(주유소) - 2020-10-18T121818.412.xls',\n",
       " 'C:/Users/Sung/Downloads/세차장\\\\지역_위치별(주유소) - 2020-10-18T121823.511.xls',\n",
       " 'C:/Users/Sung/Downloads/세차장\\\\지역_위치별(주유소) - 2020-10-18T121828.672.xls',\n",
       " 'C:/Users/Sung/Downloads/세차장\\\\지역_위치별(주유소) - 2020-10-18T121834.327.xls',\n",
       " 'C:/Users/Sung/Downloads/세차장\\\\지역_위치별(주유소) - 2020-10-18T121839.446.xls',\n",
       " 'C:/Users/Sung/Downloads/세차장\\\\지역_위치별(주유소) - 2020-10-18T121844.572.xls',\n",
       " 'C:/Users/Sung/Downloads/세차장\\\\지역_위치별(주유소) - 2020-10-18T121850.509.xls',\n",
       " 'C:/Users/Sung/Downloads/세차장\\\\지역_위치별(주유소) - 2020-10-18T121857.031.xls',\n",
       " 'C:/Users/Sung/Downloads/세차장\\\\지역_위치별(주유소) - 2020-10-18T121901.915.xls',\n",
       " 'C:/Users/Sung/Downloads/세차장\\\\지역_위치별(주유소) - 2020-10-18T121907.665.xls',\n",
       " 'C:/Users/Sung/Downloads/세차장\\\\지역_위치별(주유소) - 2020-10-18T121914.228.xls',\n",
       " 'C:/Users/Sung/Downloads/세차장\\\\지역_위치별(주유소) - 2020-10-18T121920.392.xls',\n",
       " 'C:/Users/Sung/Downloads/세차장\\\\지역_위치별(주유소) - 2020-10-18T121926.048.xls',\n",
       " 'C:/Users/Sung/Downloads/세차장\\\\지역_위치별(주유소) - 2020-10-18T121931.833.xls',\n",
       " 'C:/Users/Sung/Downloads/세차장\\\\지역_위치별(주유소) - 2020-10-18T121937.037.xls',\n",
       " 'C:/Users/Sung/Downloads/세차장\\\\지역_위치별(주유소) - 2020-10-18T121944.735.xls',\n",
       " 'C:/Users/Sung/Downloads/세차장\\\\지역_위치별(주유소) - 2020-10-18T121949.867.xls',\n",
       " 'C:/Users/Sung/Downloads/세차장\\\\지역_위치별(주유소) - 2020-10-18T121956.165.xls',\n",
       " 'C:/Users/Sung/Downloads/세차장\\\\지역_위치별(주유소) - 2020-10-18T122002.630.xls',\n",
       " 'C:/Users/Sung/Downloads/세차장\\\\지역_위치별(주유소) - 2020-10-18T122007.658.xls',\n",
       " 'C:/Users/Sung/Downloads/세차장\\\\지역_위치별(주유소) - 2020-10-18T122012.760.xls',\n",
       " 'C:/Users/Sung/Downloads/세차장\\\\지역_위치별(주유소) - 2020-10-18T122018.086.xls',\n",
       " 'C:/Users/Sung/Downloads/세차장\\\\지역_위치별(주유소) - 2020-10-18T122024.001.xls',\n",
       " 'C:/Users/Sung/Downloads/세차장\\\\지역_위치별(주유소) - 2020-10-18T122029.053.xls',\n",
       " 'C:/Users/Sung/Downloads/세차장\\\\지역_위치별(주유소) - 2020-10-18T122034.714.xls',\n",
       " 'C:/Users/Sung/Downloads/세차장\\\\지역_위치별(주유소) - 2020-10-18T122040.107.xls',\n",
       " 'C:/Users/Sung/Downloads/세차장\\\\지역_위치별(주유소) - 2020-10-18T122045.111.xls',\n",
       " 'C:/Users/Sung/Downloads/세차장\\\\지역_위치별(주유소) - 2020-10-18T122051.366.xls',\n",
       " 'C:/Users/Sung/Downloads/세차장\\\\지역_위치별(주유소) - 2020-10-18T122056.526.xls',\n",
       " 'C:/Users/Sung/Downloads/세차장\\\\지역_위치별(주유소) - 2020-10-18T122101.973.xls',\n",
       " 'C:/Users/Sung/Downloads/세차장\\\\지역_위치별(주유소) - 2020-10-18T122107.138.xls',\n",
       " 'C:/Users/Sung/Downloads/세차장\\\\지역_위치별(주유소) - 2020-10-18T122112.277.xls',\n",
       " 'C:/Users/Sung/Downloads/세차장\\\\지역_위치별(주유소) - 2020-10-18T122117.280.xls',\n",
       " 'C:/Users/Sung/Downloads/세차장\\\\지역_위치별(주유소) - 2020-10-18T122122.481.xls',\n",
       " 'C:/Users/Sung/Downloads/세차장\\\\지역_위치별(주유소) - 2020-10-18T122127.562.xls',\n",
       " 'C:/Users/Sung/Downloads/세차장\\\\지역_위치별(주유소) - 2020-10-18T122132.926.xls',\n",
       " 'C:/Users/Sung/Downloads/세차장\\\\지역_위치별(주유소) - 2020-10-18T122137.976.xls',\n",
       " 'C:/Users/Sung/Downloads/세차장\\\\지역_위치별(주유소) - 2020-10-18T122145.800.xls',\n",
       " 'C:/Users/Sung/Downloads/세차장\\\\지역_위치별(주유소) - 2020-10-18T122151.511.xls',\n",
       " 'C:/Users/Sung/Downloads/세차장\\\\지역_위치별(주유소) - 2020-10-18T122156.671.xls',\n",
       " 'C:/Users/Sung/Downloads/세차장\\\\지역_위치별(주유소) - 2020-10-18T122202.831.xls',\n",
       " 'C:/Users/Sung/Downloads/세차장\\\\지역_위치별(주유소) - 2020-10-18T122208.485.xls',\n",
       " 'C:/Users/Sung/Downloads/세차장\\\\지역_위치별(주유소) - 2020-10-18T122213.982.xls',\n",
       " 'C:/Users/Sung/Downloads/세차장\\\\지역_위치별(주유소) - 2020-10-18T122219.070.xls',\n",
       " 'C:/Users/Sung/Downloads/세차장\\\\지역_위치별(주유소) - 2020-10-18T122224.246.xls',\n",
       " 'C:/Users/Sung/Downloads/세차장\\\\지역_위치별(주유소) - 2020-10-18T122229.563.xls',\n",
       " 'C:/Users/Sung/Downloads/세차장\\\\지역_위치별(주유소) - 2020-10-18T122234.808.xls',\n",
       " 'C:/Users/Sung/Downloads/세차장\\\\지역_위치별(주유소) - 2020-10-18T122240.648.xls',\n",
       " 'C:/Users/Sung/Downloads/세차장\\\\지역_위치별(주유소) - 2020-10-18T122245.945.xls',\n",
       " 'C:/Users/Sung/Downloads/세차장\\\\지역_위치별(주유소) - 2020-10-18T122251.788.xls',\n",
       " 'C:/Users/Sung/Downloads/세차장\\\\지역_위치별(주유소) - 2020-10-18T122256.927.xls',\n",
       " 'C:/Users/Sung/Downloads/세차장\\\\지역_위치별(주유소) - 2020-10-18T122302.243.xls',\n",
       " 'C:/Users/Sung/Downloads/세차장\\\\지역_위치별(주유소) - 2020-10-18T122307.418.xls',\n",
       " 'C:/Users/Sung/Downloads/세차장\\\\지역_위치별(주유소) - 2020-10-18T122312.484.xls',\n",
       " 'C:/Users/Sung/Downloads/세차장\\\\지역_위치별(주유소) - 2020-10-18T122318.241.xls',\n",
       " 'C:/Users/Sung/Downloads/세차장\\\\지역_위치별(주유소) - 2020-10-18T122323.264.xls',\n",
       " 'C:/Users/Sung/Downloads/세차장\\\\지역_위치별(주유소) - 2020-10-18T122328.356.xls',\n",
       " 'C:/Users/Sung/Downloads/세차장\\\\지역_위치별(주유소) - 2020-10-18T122333.528.xls',\n",
       " 'C:/Users/Sung/Downloads/세차장\\\\지역_위치별(주유소) - 2020-10-18T122338.909.xls',\n",
       " 'C:/Users/Sung/Downloads/세차장\\\\지역_위치별(주유소) - 2020-10-18T122345.078.xls',\n",
       " 'C:/Users/Sung/Downloads/세차장\\\\지역_위치별(주유소) - 2020-10-18T122350.697.xls',\n",
       " 'C:/Users/Sung/Downloads/세차장\\\\지역_위치별(주유소) - 2020-10-18T122356.299.xls',\n",
       " 'C:/Users/Sung/Downloads/세차장\\\\지역_위치별(주유소) - 2020-10-18T122403.897.xls',\n",
       " 'C:/Users/Sung/Downloads/세차장\\\\지역_위치별(주유소) - 2020-10-18T122409.215.xls',\n",
       " 'C:/Users/Sung/Downloads/세차장\\\\지역_위치별(주유소) - 2020-10-18T122414.361.xls',\n",
       " 'C:/Users/Sung/Downloads/세차장\\\\지역_위치별(주유소) - 2020-10-18T122420.755.xls',\n",
       " 'C:/Users/Sung/Downloads/세차장\\\\지역_위치별(주유소) - 2020-10-18T122425.946.xls',\n",
       " 'C:/Users/Sung/Downloads/세차장\\\\지역_위치별(주유소) - 2020-10-18T122431.509.xls',\n",
       " 'C:/Users/Sung/Downloads/세차장\\\\지역_위치별(주유소) - 2020-10-18T122436.981.xls',\n",
       " 'C:/Users/Sung/Downloads/세차장\\\\지역_위치별(주유소) - 2020-10-18T122442.343.xls',\n",
       " 'C:/Users/Sung/Downloads/세차장\\\\지역_위치별(주유소) - 2020-10-18T122448.267.xls',\n",
       " 'C:/Users/Sung/Downloads/세차장\\\\지역_위치별(주유소) - 2020-10-18T122453.606.xls',\n",
       " 'C:/Users/Sung/Downloads/세차장\\\\지역_위치별(주유소) - 2020-10-18T122459.466.xls',\n",
       " 'C:/Users/Sung/Downloads/세차장\\\\지역_위치별(주유소) - 2020-10-18T122504.970.xls',\n",
       " 'C:/Users/Sung/Downloads/세차장\\\\지역_위치별(주유소) - 2020-10-18T122511.704.xls',\n",
       " 'C:/Users/Sung/Downloads/세차장\\\\지역_위치별(주유소) - 2020-10-18T122517.113.xls',\n",
       " 'C:/Users/Sung/Downloads/세차장\\\\지역_위치별(주유소) - 2020-10-18T122522.538.xls',\n",
       " 'C:/Users/Sung/Downloads/세차장\\\\지역_위치별(주유소) - 2020-10-18T122527.961.xls',\n",
       " 'C:/Users/Sung/Downloads/세차장\\\\지역_위치별(주유소) - 2020-10-18T122533.440.xls',\n",
       " 'C:/Users/Sung/Downloads/세차장\\\\지역_위치별(주유소) - 2020-10-18T122539.017.xls',\n",
       " 'C:/Users/Sung/Downloads/세차장\\\\지역_위치별(주유소) - 2020-10-18T122544.151.xls',\n",
       " 'C:/Users/Sung/Downloads/세차장\\\\지역_위치별(주유소) - 2020-10-18T122549.401.xls',\n",
       " 'C:/Users/Sung/Downloads/세차장\\\\지역_위치별(주유소) - 2020-10-18T122555.825.xls',\n",
       " 'C:/Users/Sung/Downloads/세차장\\\\지역_위치별(주유소) - 2020-10-18T122601.063.xls',\n",
       " 'C:/Users/Sung/Downloads/세차장\\\\지역_위치별(주유소) - 2020-10-18T122606.333.xls',\n",
       " 'C:/Users/Sung/Downloads/세차장\\\\지역_위치별(주유소) - 2020-10-18T122614.541.xls',\n",
       " 'C:/Users/Sung/Downloads/세차장\\\\지역_위치별(주유소) - 2020-10-18T122620.904.xls']"
      ]
     },
     "execution_count": 128,
     "metadata": {},
     "output_type": "execute_result"
    }
   ],
   "source": [
    "# /data 폴더 안에  # 지역으로 시작하는 # xls 파일 전체를 의미 \n",
    "glob(\"C:/Users/Sung/Downloads/세차장/지역*.xls\")"
   ]
  },
  {
   "cell_type": "code",
   "execution_count": 138,
   "metadata": {
    "ExecuteTime": {
     "end_time": "2020-10-18T03:34:28.792789Z",
     "start_time": "2020-10-18T03:34:28.772842Z"
    }
   },
   "outputs": [
    {
     "data": {
      "text/plain": [
       "262"
      ]
     },
     "execution_count": 138,
     "metadata": {},
     "output_type": "execute_result"
    }
   ],
   "source": [
    "# station_files 변수에 각 엑셀 파일의 경로와 이름을 리스트로 저장 \n",
    "station_files = glob(\"C:/Users/Sung/Downloads/세차장/지역*.xls\")\n",
    "len(station_files)"
   ]
  },
  {
   "cell_type": "code",
   "execution_count": null,
   "metadata": {},
   "outputs": [],
   "source": [
    "station_files[0]"
   ]
  },
  {
   "cell_type": "code",
   "execution_count": 134,
   "metadata": {
    "ExecuteTime": {
     "end_time": "2020-10-18T03:33:38.729429Z",
     "start_time": "2020-10-18T03:33:38.681587Z"
    },
    "scrolled": true
   },
   "outputs": [
    {
     "data": {
      "text/plain": [
       "[       지역                     상호                         주소      상표  \\\n",
       " 0   서울특별시            (주)보성 세곡주유소      서울 강남구  헌릉로 731 (세곡동)   SK에너지   \n",
       " 1   서울특별시               오일프러스 셀프    서울 강남구 남부순환로 2651 (도곡동)   SK에너지   \n",
       " 2   서울특별시         현대오일뱅크 도곡셀프주유소  서울 강남구  남부순환로 2718 (도곡2동)  현대오일뱅크   \n",
       " 3   서울특별시       GS칼텍스(주)직영 산성주유소             서울 강남구 헌릉로 730   GS칼텍스   \n",
       " 4   서울특별시                  방죽주유소      서울 강남구 밤고개로 215 (율현동)   S-OIL   \n",
       " 5   서울특별시        현대오일뱅크(주) 유진주유소       서울 강남구 논현로 152 (도곡동)  현대오일뱅크   \n",
       " 6   서울특별시                자곡셀프주유소      서울 강남구 밤고개로 120 (자곡동)   SK에너지   \n",
       " 7   서울특별시                  역삼주유소       서울 강남구 역삼로 205 (역삼동)   GS칼텍스   \n",
       " 8   서울특별시                SK서광주유소       서울 강남구 역삼로 142 (역삼동)   SK에너지   \n",
       " 9   서울특별시          지에스칼텍스㈜ 은마주유소            서울 강남구 영동대로 235   GS칼텍스   \n",
       " 10  서울특별시         SK에너지(주) 매봉주유소             서울 강남구 언주로 307   SK에너지   \n",
       " 11  서울특별시        에쓰-오일㈜직영 개나리주유소       서울 강남구 언주로 423 (역삼동)   S-OIL   \n",
       " 12  서울특별시             (주)선진도곡주유소       서울 강남구 도곡로 162 (도곡동)   S-OIL   \n",
       " 13  서울특별시          SK에너지㈜ 진달래주유소             서울 강남구 도곡로 208   SK에너지   \n",
       " 14  서울특별시          지에스칼텍스㈜ 주성주유소            서울 강남구 영동대로 716   GS칼텍스   \n",
       " 15  서울특별시        (유)동하석유 힐탑셀프주유소             서울 강남구 논현로 640   SK에너지   \n",
       " 16  서울특별시        현대오일뱅크㈜직영 오천주유소      서울 강남구 봉은사로 503 (삼성동)  현대오일뱅크   \n",
       " 17  서울특별시         지에스칼텍스㈜ 삼성로주유소       서울 강남구 삼성로 563 (삼성동)   GS칼텍스   \n",
       " 18  서울특별시            대동석유 압구정주유소       서울 강남구 언주로 842 (신사동)   SK에너지   \n",
       " 19  서울특별시       현대오일뱅크㈜직영 삼성동주유소      서울 강남구 테헤란로 619 (삼성동)  현대오일뱅크   \n",
       " 20  서울특별시         (주)중앙에너비스 수서지점       서울 강남구 광평로 202 (수서동)   SK에너지   \n",
       " 21  서울특별시     에스제이에너지산업(주) 개포주유소            서울 강남구 양재대로 339   GS칼텍스   \n",
       " 22  서울특별시                 논현동주유소       서울 강남구 학동로 229 (논현동)   GS칼텍스   \n",
       " 23  서울특별시    현대오일뱅크(주)직영 신사현대주유소      서울 강남구 도산대로 163 (신사동)  현대오일뱅크   \n",
       " 24  서울특별시          ㈜새서울석유 새서울주유소            서울 강남구 압구정로 154  현대오일뱅크   \n",
       " 25  서울특별시      현대오일뱅크(주)직영 한양주유소      서울 강남구 압구정로 302 (신사동)  현대오일뱅크   \n",
       " 26  서울특별시                  명품주유소       서울 강남구 도곡로 249 (역삼동)   S-OIL   \n",
       " 27  서울특별시                  대청주유소       서울 강남구 개포로 654 (일원동)   SK에너지   \n",
       " 28  서울특별시                SK논현주유소       서울 강남구 논현로 747 (논현동)   SK에너지   \n",
       " 29  서울특별시                갤러리아주유소            서울 강남구 압구정로 426   SK에너지   \n",
       " 30  서울특별시                 학여울주유소  서울 강남구  남부순환로 3170 (일원2동)   GS칼텍스   \n",
       " 31  서울특별시  (주)소모에너지엔테크놀러지 쎈트럴주유소             서울 강남구 삼성로 335   GS칼텍스   \n",
       " 32  서울특별시               (주)만정에너지      서울 강남구 봉은사로 433 (삼성동)   GS칼텍스   \n",
       " 33  서울특별시                뉴서울(강남)       서울 강남구 언주로 716 (논현동)   SK에너지   \n",
       " 34  서울특별시                  동우주유소  서울특별시 강남구  봉은사로 311 (논현동)   SK에너지   \n",
       " 35  서울특별시                  삼성주유소       서울 강남구 삼성로 521 (삼성동)   SK에너지   \n",
       " \n",
       "              전화번호 셀프여부 고급휘발유   휘발유    경유  실내등유  \n",
       " 0     02-445-6870    Y     -  1363  1165     -  \n",
       " 1    02-3462-5100    Y  1547  1384  1179     -  \n",
       " 2     02-529-5101    Y  1547  1384  1179     -  \n",
       " 3    02-2226-4963    Y     -  1385  1195     -  \n",
       " 4     02-459-3434    Y     -  1389  1179     -  \n",
       " 5    02-3462-5215    N  1562  1398  1194  1090  \n",
       " 6     02-445-5841    Y     -  1399  1199     -  \n",
       " 7     02-557-5189    N  1625  1415  1255     -  \n",
       " 8     02-562-4855    Y  1549  1415  1215     -  \n",
       " 9    02-3452-1882    N  1565  1415  1255     -  \n",
       " 10    02-556-5510    Y  1565  1415  1239     -  \n",
       " 11    02-564-0187    N  1565  1415  1239     -  \n",
       " 12   02-2058-3024    N  1570  1415  1255     -  \n",
       " 13   02-3462-0018    N  1545  1415  1239     -  \n",
       " 14    02-518-3460    N  1575  1425  1245     -  \n",
       " 15    02-544-4075    Y  1635  1435  1265     -  \n",
       " 16    02-545-2822    N  1597  1441  1266  1025  \n",
       " 17    02-538-5138    Y  1597  1441  1266     -  \n",
       " 18    02-545-6161    Y  1633  1453  1273     -  \n",
       " 19    02-508-6572    N  1597  1461  1286     -  \n",
       " 20  070-8707-4582    Y  1698  1468  1238     -  \n",
       " 21    02-573-9031    N  1750  1498  1298  1150  \n",
       " 22   02-3443-9545    Y  1717  1527  1353  1200  \n",
       " 23    02-546-2182    N  1896  1586  1422     -  \n",
       " 24    02-543-1154    N  1878  1637  1437     -  \n",
       " 25   02-3444-0804    N  1838  1638  1428     -  \n",
       " 26    02-501-1256    N  1828  1698  1528     -  \n",
       " 27    02-445-5500    N  2009  1779  1576     -  \n",
       " 28    02-511-0955    N  2048  1788  1648  1350  \n",
       " 29    02-540-4965    N  2106  1848  1659  1250  \n",
       " 30   02-3411-3271    N  2117  1873  1637     -  \n",
       " 31    02-565-0267    N  2067  1883  1689     -  \n",
       " 32    02-518-5141    N  2079  1913  1689  1359  \n",
       " 33    02-518-5631    N  2330  2025  1865     -  \n",
       " 34    02-542-6726    N     -     -     -     -  \n",
       " 35    02-538-0809    N     -     -     -     -  ]"
      ]
     },
     "execution_count": 134,
     "metadata": {},
     "output_type": "execute_result"
    }
   ],
   "source": [
    "# 파일 한개 가져오기 \n",
    "tmp_raw = []\n",
    "tmp = pd.read_excel('C:/Users/Sung/Downloads/세차장\\\\지역_위치별(주유소) (1).xls', header = 2) # header 는 3번째 줄에 있음 \n",
    "tmp_raw.append(tmp)\n",
    "tmp_raw"
   ]
  },
  {
   "cell_type": "code",
   "execution_count": 151,
   "metadata": {
    "ExecuteTime": {
     "end_time": "2020-10-18T03:36:22.020811Z",
     "start_time": "2020-10-18T03:36:20.876885Z"
    }
   },
   "outputs": [],
   "source": [
    "# 파일 여러개 가져오기\n",
    "# read_excel 로 각 파일을 읽은 후\n",
    "# tmp_raw 변수에 append\n",
    "# 반복문 끝나면 pd.concat 명령으로 쉽게 하나로 합침\n",
    "# 25개 엑셀 파일 하나로 합침\n",
    "\n",
    "tmp_raw = []\n",
    "for file_name in station_files:\n",
    "    tmp = pd.read_excel(file_name, header = 2) # header 는 3번째 줄에 있음 \n",
    "    tmp_raw.append(tmp)\n",
    "\n",
    "station_raw = pd.concat(tmp_raw)"
   ]
  },
  {
   "cell_type": "code",
   "execution_count": 152,
   "metadata": {
    "ExecuteTime": {
     "end_time": "2020-10-18T03:36:24.052365Z",
     "start_time": "2020-10-18T03:36:24.038404Z"
    }
   },
   "outputs": [
    {
     "name": "stdout",
     "output_type": "stream",
     "text": [
      "<class 'pandas.core.frame.DataFrame'>\n",
      "Int64Index: 7189 entries, 0 to 71\n",
      "Data columns (total 10 columns):\n",
      " #   Column  Non-Null Count  Dtype \n",
      "---  ------  --------------  ----- \n",
      " 0   지역      7189 non-null   object\n",
      " 1   상호      7189 non-null   object\n",
      " 2   주소      7189 non-null   object\n",
      " 3   상표      7189 non-null   object\n",
      " 4   전화번호    7189 non-null   object\n",
      " 5   셀프여부    7189 non-null   object\n",
      " 6   고급휘발유   7189 non-null   object\n",
      " 7   휘발유     7189 non-null   object\n",
      " 8   경유      7189 non-null   object\n",
      " 9   실내등유    7189 non-null   object\n",
      "dtypes: object(10)\n",
      "memory usage: 617.8+ KB\n"
     ]
    }
   ],
   "source": [
    "station_raw.info() # 가격 정보가 숫자형(int, float) 아니어서 나중에 처리해야 함"
   ]
  },
  {
   "cell_type": "code",
   "execution_count": 153,
   "metadata": {
    "ExecuteTime": {
     "end_time": "2020-10-18T03:36:26.531734Z",
     "start_time": "2020-10-18T03:36:26.518796Z"
    }
   },
   "outputs": [
    {
     "data": {
      "text/html": [
       "<div>\n",
       "<style scoped>\n",
       "    .dataframe tbody tr th:only-of-type {\n",
       "        vertical-align: middle;\n",
       "    }\n",
       "\n",
       "    .dataframe tbody tr th {\n",
       "        vertical-align: top;\n",
       "    }\n",
       "\n",
       "    .dataframe thead th {\n",
       "        text-align: right;\n",
       "    }\n",
       "</style>\n",
       "<table border=\"1\" class=\"dataframe\">\n",
       "  <thead>\n",
       "    <tr style=\"text-align: right;\">\n",
       "      <th></th>\n",
       "      <th>지역</th>\n",
       "      <th>상호</th>\n",
       "      <th>주소</th>\n",
       "      <th>상표</th>\n",
       "      <th>전화번호</th>\n",
       "      <th>셀프여부</th>\n",
       "      <th>고급휘발유</th>\n",
       "      <th>휘발유</th>\n",
       "      <th>경유</th>\n",
       "      <th>실내등유</th>\n",
       "    </tr>\n",
       "  </thead>\n",
       "  <tbody>\n",
       "    <tr>\n",
       "      <th>0</th>\n",
       "      <td>서울특별시</td>\n",
       "      <td>(주)보성 세곡주유소</td>\n",
       "      <td>서울 강남구  헌릉로 731 (세곡동)</td>\n",
       "      <td>SK에너지</td>\n",
       "      <td>02-445-6870</td>\n",
       "      <td>Y</td>\n",
       "      <td>-</td>\n",
       "      <td>1363</td>\n",
       "      <td>1165</td>\n",
       "      <td>-</td>\n",
       "    </tr>\n",
       "    <tr>\n",
       "      <th>1</th>\n",
       "      <td>서울특별시</td>\n",
       "      <td>오일프러스 셀프</td>\n",
       "      <td>서울 강남구 남부순환로 2651 (도곡동)</td>\n",
       "      <td>SK에너지</td>\n",
       "      <td>02-3462-5100</td>\n",
       "      <td>Y</td>\n",
       "      <td>1547</td>\n",
       "      <td>1384</td>\n",
       "      <td>1179</td>\n",
       "      <td>-</td>\n",
       "    </tr>\n",
       "    <tr>\n",
       "      <th>2</th>\n",
       "      <td>서울특별시</td>\n",
       "      <td>현대오일뱅크 도곡셀프주유소</td>\n",
       "      <td>서울 강남구  남부순환로 2718 (도곡2동)</td>\n",
       "      <td>현대오일뱅크</td>\n",
       "      <td>02-529-5101</td>\n",
       "      <td>Y</td>\n",
       "      <td>1547</td>\n",
       "      <td>1384</td>\n",
       "      <td>1179</td>\n",
       "      <td>-</td>\n",
       "    </tr>\n",
       "    <tr>\n",
       "      <th>3</th>\n",
       "      <td>서울특별시</td>\n",
       "      <td>GS칼텍스(주)직영 산성주유소</td>\n",
       "      <td>서울 강남구 헌릉로 730</td>\n",
       "      <td>GS칼텍스</td>\n",
       "      <td>02-2226-4963</td>\n",
       "      <td>Y</td>\n",
       "      <td>-</td>\n",
       "      <td>1385</td>\n",
       "      <td>1195</td>\n",
       "      <td>-</td>\n",
       "    </tr>\n",
       "    <tr>\n",
       "      <th>4</th>\n",
       "      <td>서울특별시</td>\n",
       "      <td>방죽주유소</td>\n",
       "      <td>서울 강남구 밤고개로 215 (율현동)</td>\n",
       "      <td>S-OIL</td>\n",
       "      <td>02-459-3434</td>\n",
       "      <td>Y</td>\n",
       "      <td>-</td>\n",
       "      <td>1389</td>\n",
       "      <td>1179</td>\n",
       "      <td>-</td>\n",
       "    </tr>\n",
       "  </tbody>\n",
       "</table>\n",
       "</div>"
      ],
      "text/plain": [
       "      지역                상호                         주소      상표          전화번호  \\\n",
       "0  서울특별시       (주)보성 세곡주유소      서울 강남구  헌릉로 731 (세곡동)   SK에너지   02-445-6870   \n",
       "1  서울특별시          오일프러스 셀프    서울 강남구 남부순환로 2651 (도곡동)   SK에너지  02-3462-5100   \n",
       "2  서울특별시    현대오일뱅크 도곡셀프주유소  서울 강남구  남부순환로 2718 (도곡2동)  현대오일뱅크   02-529-5101   \n",
       "3  서울특별시  GS칼텍스(주)직영 산성주유소             서울 강남구 헌릉로 730   GS칼텍스  02-2226-4963   \n",
       "4  서울특별시             방죽주유소      서울 강남구 밤고개로 215 (율현동)   S-OIL   02-459-3434   \n",
       "\n",
       "  셀프여부 고급휘발유   휘발유    경유 실내등유  \n",
       "0    Y     -  1363  1165    -  \n",
       "1    Y  1547  1384  1179    -  \n",
       "2    Y  1547  1384  1179    -  \n",
       "3    Y     -  1385  1195    -  \n",
       "4    Y     -  1389  1179    -  "
      ]
     },
     "execution_count": 153,
     "metadata": {},
     "output_type": "execute_result"
    }
   ],
   "source": [
    "station_raw.head()"
   ]
  },
  {
   "cell_type": "code",
   "execution_count": 154,
   "metadata": {
    "ExecuteTime": {
     "end_time": "2020-10-18T03:36:28.490496Z",
     "start_time": "2020-10-18T03:36:28.476533Z"
    }
   },
   "outputs": [
    {
     "data": {
      "text/html": [
       "<div>\n",
       "<style scoped>\n",
       "    .dataframe tbody tr th:only-of-type {\n",
       "        vertical-align: middle;\n",
       "    }\n",
       "\n",
       "    .dataframe tbody tr th {\n",
       "        vertical-align: top;\n",
       "    }\n",
       "\n",
       "    .dataframe thead th {\n",
       "        text-align: right;\n",
       "    }\n",
       "</style>\n",
       "<table border=\"1\" class=\"dataframe\">\n",
       "  <thead>\n",
       "    <tr style=\"text-align: right;\">\n",
       "      <th></th>\n",
       "      <th>지역</th>\n",
       "      <th>상호</th>\n",
       "      <th>주소</th>\n",
       "      <th>상표</th>\n",
       "      <th>전화번호</th>\n",
       "      <th>셀프여부</th>\n",
       "      <th>고급휘발유</th>\n",
       "      <th>휘발유</th>\n",
       "      <th>경유</th>\n",
       "      <th>실내등유</th>\n",
       "    </tr>\n",
       "  </thead>\n",
       "  <tbody>\n",
       "    <tr>\n",
       "      <th>67</th>\n",
       "      <td>제주특별자치도</td>\n",
       "      <td>삼남주유소</td>\n",
       "      <td>제주특별자치도 제주시 남성로 60 (용담일동)</td>\n",
       "      <td>GS칼텍스</td>\n",
       "      <td>064-755-1618</td>\n",
       "      <td>N</td>\n",
       "      <td>-</td>\n",
       "      <td>1400</td>\n",
       "      <td>1180</td>\n",
       "      <td>730</td>\n",
       "    </tr>\n",
       "    <tr>\n",
       "      <th>68</th>\n",
       "      <td>제주특별자치도</td>\n",
       "      <td>도평주유소</td>\n",
       "      <td>제주 제주시 우평로 197 (도평동)</td>\n",
       "      <td>SK에너지</td>\n",
       "      <td>064-712-3112</td>\n",
       "      <td>N</td>\n",
       "      <td>-</td>\n",
       "      <td>1400</td>\n",
       "      <td>1180</td>\n",
       "      <td>730</td>\n",
       "    </tr>\n",
       "    <tr>\n",
       "      <th>69</th>\n",
       "      <td>제주특별자치도</td>\n",
       "      <td>애월농협주유소</td>\n",
       "      <td>제주 제주시 애월읍 일주서로 6252</td>\n",
       "      <td>NH-OIL</td>\n",
       "      <td>064-799-0164</td>\n",
       "      <td>N</td>\n",
       "      <td>-</td>\n",
       "      <td>1400</td>\n",
       "      <td>1180</td>\n",
       "      <td>730</td>\n",
       "    </tr>\n",
       "    <tr>\n",
       "      <th>70</th>\n",
       "      <td>제주특별자치도</td>\n",
       "      <td>신도시주유소</td>\n",
       "      <td>제주 제주시 과원로 210 (연동)</td>\n",
       "      <td>SK에너지</td>\n",
       "      <td>064-746-5185</td>\n",
       "      <td>N</td>\n",
       "      <td>-</td>\n",
       "      <td>1430</td>\n",
       "      <td>1210</td>\n",
       "      <td>730</td>\n",
       "    </tr>\n",
       "    <tr>\n",
       "      <th>71</th>\n",
       "      <td>제주특별자치도</td>\n",
       "      <td>창성주유소</td>\n",
       "      <td>제주 제주시 노형로 315 (노형동)</td>\n",
       "      <td>GS칼텍스</td>\n",
       "      <td>064-713-8951</td>\n",
       "      <td>N</td>\n",
       "      <td>-</td>\n",
       "      <td>-</td>\n",
       "      <td>-</td>\n",
       "      <td>-</td>\n",
       "    </tr>\n",
       "  </tbody>\n",
       "</table>\n",
       "</div>"
      ],
      "text/plain": [
       "         지역       상호                         주소      상표          전화번호 셀프여부  \\\n",
       "67  제주특별자치도    삼남주유소  제주특별자치도 제주시 남성로 60 (용담일동)   GS칼텍스  064-755-1618    N   \n",
       "68  제주특별자치도    도평주유소       제주 제주시 우평로 197 (도평동)   SK에너지  064-712-3112    N   \n",
       "69  제주특별자치도  애월농협주유소       제주 제주시 애월읍 일주서로 6252  NH-OIL  064-799-0164    N   \n",
       "70  제주특별자치도   신도시주유소        제주 제주시 과원로 210 (연동)   SK에너지  064-746-5185    N   \n",
       "71  제주특별자치도    창성주유소       제주 제주시 노형로 315 (노형동)   GS칼텍스  064-713-8951    N   \n",
       "\n",
       "   고급휘발유   휘발유    경유 실내등유  \n",
       "67     -  1400  1180  730  \n",
       "68     -  1400  1180  730  \n",
       "69     -  1400  1180  730  \n",
       "70     -  1430  1210  730  \n",
       "71     -     -     -    -  "
      ]
     },
     "execution_count": 154,
     "metadata": {},
     "output_type": "execute_result"
    }
   ],
   "source": [
    "station_raw.tail()"
   ]
  },
  {
   "cell_type": "code",
   "execution_count": 155,
   "metadata": {
    "ExecuteTime": {
     "end_time": "2020-10-18T03:36:30.511094Z",
     "start_time": "2020-10-18T03:36:30.497131Z"
    }
   },
   "outputs": [
    {
     "data": {
      "text/html": [
       "<div>\n",
       "<style scoped>\n",
       "    .dataframe tbody tr th:only-of-type {\n",
       "        vertical-align: middle;\n",
       "    }\n",
       "\n",
       "    .dataframe tbody tr th {\n",
       "        vertical-align: top;\n",
       "    }\n",
       "\n",
       "    .dataframe thead th {\n",
       "        text-align: right;\n",
       "    }\n",
       "</style>\n",
       "<table border=\"1\" class=\"dataframe\">\n",
       "  <thead>\n",
       "    <tr style=\"text-align: right;\">\n",
       "      <th></th>\n",
       "      <th>sido</th>\n",
       "      <th>os_nm</th>\n",
       "      <th>new_adr</th>\n",
       "      <th>oil_price</th>\n",
       "      <th>poll_div_cd</th>\n",
       "      <th>self_yn</th>\n",
       "    </tr>\n",
       "  </thead>\n",
       "  <tbody>\n",
       "    <tr>\n",
       "      <th>0</th>\n",
       "      <td>서울특별시</td>\n",
       "      <td>(주)보성 세곡주유소</td>\n",
       "      <td>서울 강남구  헌릉로 731 (세곡동)</td>\n",
       "      <td>1363</td>\n",
       "      <td>SK에너지</td>\n",
       "      <td>Y</td>\n",
       "    </tr>\n",
       "    <tr>\n",
       "      <th>1</th>\n",
       "      <td>서울특별시</td>\n",
       "      <td>오일프러스 셀프</td>\n",
       "      <td>서울 강남구 남부순환로 2651 (도곡동)</td>\n",
       "      <td>1384</td>\n",
       "      <td>SK에너지</td>\n",
       "      <td>Y</td>\n",
       "    </tr>\n",
       "    <tr>\n",
       "      <th>2</th>\n",
       "      <td>서울특별시</td>\n",
       "      <td>현대오일뱅크 도곡셀프주유소</td>\n",
       "      <td>서울 강남구  남부순환로 2718 (도곡2동)</td>\n",
       "      <td>1384</td>\n",
       "      <td>현대오일뱅크</td>\n",
       "      <td>Y</td>\n",
       "    </tr>\n",
       "    <tr>\n",
       "      <th>3</th>\n",
       "      <td>서울특별시</td>\n",
       "      <td>GS칼텍스(주)직영 산성주유소</td>\n",
       "      <td>서울 강남구 헌릉로 730</td>\n",
       "      <td>1385</td>\n",
       "      <td>GS칼텍스</td>\n",
       "      <td>Y</td>\n",
       "    </tr>\n",
       "    <tr>\n",
       "      <th>4</th>\n",
       "      <td>서울특별시</td>\n",
       "      <td>방죽주유소</td>\n",
       "      <td>서울 강남구 밤고개로 215 (율현동)</td>\n",
       "      <td>1389</td>\n",
       "      <td>S-OIL</td>\n",
       "      <td>Y</td>\n",
       "    </tr>\n",
       "  </tbody>\n",
       "</table>\n",
       "</div>"
      ],
      "text/plain": [
       "    sido             os_nm                    new_adr oil_price poll_div_cd  \\\n",
       "0  서울특별시       (주)보성 세곡주유소      서울 강남구  헌릉로 731 (세곡동)      1363       SK에너지   \n",
       "1  서울특별시          오일프러스 셀프    서울 강남구 남부순환로 2651 (도곡동)      1384       SK에너지   \n",
       "2  서울특별시    현대오일뱅크 도곡셀프주유소  서울 강남구  남부순환로 2718 (도곡2동)      1384      현대오일뱅크   \n",
       "3  서울특별시  GS칼텍스(주)직영 산성주유소             서울 강남구 헌릉로 730      1385       GS칼텍스   \n",
       "4  서울특별시             방죽주유소      서울 강남구 밤고개로 215 (율현동)      1389       S-OIL   \n",
       "\n",
       "  self_yn  \n",
       "0       Y  \n",
       "1       Y  \n",
       "2       Y  \n",
       "3       Y  \n",
       "4       Y  "
      ]
     },
     "execution_count": 155,
     "metadata": {},
     "output_type": "execute_result"
    }
   ],
   "source": [
    "# 원하는 컬럼 가지고 오고 이름도 다시 정의 stations 라는 변수에 저장 \n",
    "# 지역, 상호, 주소, 상표, 셀프여부 \n",
    "stations = pd.DataFrame({\"sido\" : station_raw[\"지역\"],\n",
    "                         \"os_nm\": station_raw[\"상호\"],\n",
    "                         \"new_adr\": station_raw[\"주소\"],\n",
    "                         \"oil_price\": station_raw[\"휘발유\"],\n",
    "                         \"poll_div_cd\": station_raw[\"상표\"],\n",
    "                         \"self_yn\": station_raw[\"셀프여부\"]})\n",
    "stations.head()"
   ]
  },
  {
   "cell_type": "code",
   "execution_count": 156,
   "metadata": {
    "ExecuteTime": {
     "end_time": "2020-10-18T03:36:32.477834Z",
     "start_time": "2020-10-18T03:36:32.468857Z"
    }
   },
   "outputs": [
    {
     "data": {
      "text/plain": [
       "['서울 강남구 현릉로 731', '세곡동)']"
      ]
     },
     "execution_count": 156,
     "metadata": {},
     "output_type": "execute_result"
    }
   ],
   "source": [
    "eachAddress = \"서울 강남구 현릉로 731(세곡동)\"\n",
    "eachAddress.split(\"(\")"
   ]
  },
  {
   "cell_type": "code",
   "execution_count": 157,
   "metadata": {
    "ExecuteTime": {
     "end_time": "2020-10-18T03:36:34.502420Z",
     "start_time": "2020-10-18T03:36:34.489455Z"
    }
   },
   "outputs": [
    {
     "data": {
      "text/plain": [
       "['서울', '강남구', '현릉로', '731(세곡동)']"
      ]
     },
     "execution_count": 157,
     "metadata": {},
     "output_type": "execute_result"
    }
   ],
   "source": [
    "eachAddress = \"서울 강남구 현릉로 731(세곡동)\"\n",
    "eachAddress.split(\" \")"
   ]
  },
  {
   "cell_type": "code",
   "execution_count": 167,
   "metadata": {
    "ExecuteTime": {
     "end_time": "2020-10-18T05:05:23.914668Z",
     "start_time": "2020-10-18T05:05:23.897713Z"
    }
   },
   "outputs": [
    {
     "data": {
      "text/plain": [
       "'서울'"
      ]
     },
     "execution_count": 167,
     "metadata": {},
     "output_type": "execute_result"
    }
   ],
   "source": [
    "eachAddress = \"서울 강남구 현릉로 731(세곡동)\"\n",
    "eachAddress.split()[0]"
   ]
  },
  {
   "cell_type": "code",
   "execution_count": 158,
   "metadata": {
    "ExecuteTime": {
     "end_time": "2020-10-18T03:36:36.471177Z",
     "start_time": "2020-10-18T03:36:36.456194Z"
    }
   },
   "outputs": [
    {
     "data": {
      "text/html": [
       "<div>\n",
       "<style scoped>\n",
       "    .dataframe tbody tr th:only-of-type {\n",
       "        vertical-align: middle;\n",
       "    }\n",
       "\n",
       "    .dataframe tbody tr th {\n",
       "        vertical-align: top;\n",
       "    }\n",
       "\n",
       "    .dataframe thead th {\n",
       "        text-align: right;\n",
       "    }\n",
       "</style>\n",
       "<table border=\"1\" class=\"dataframe\">\n",
       "  <thead>\n",
       "    <tr style=\"text-align: right;\">\n",
       "      <th></th>\n",
       "      <th>sido</th>\n",
       "      <th>os_nm</th>\n",
       "      <th>new_adr</th>\n",
       "      <th>oil_price</th>\n",
       "      <th>poll_div_cd</th>\n",
       "      <th>self_yn</th>\n",
       "      <th>si</th>\n",
       "    </tr>\n",
       "  </thead>\n",
       "  <tbody>\n",
       "    <tr>\n",
       "      <th>0</th>\n",
       "      <td>서울특별시</td>\n",
       "      <td>(주)보성 세곡주유소</td>\n",
       "      <td>서울 강남구  헌릉로 731 (세곡동)</td>\n",
       "      <td>1363</td>\n",
       "      <td>SK에너지</td>\n",
       "      <td>Y</td>\n",
       "      <td>서울</td>\n",
       "    </tr>\n",
       "    <tr>\n",
       "      <th>1</th>\n",
       "      <td>서울특별시</td>\n",
       "      <td>오일프러스 셀프</td>\n",
       "      <td>서울 강남구 남부순환로 2651 (도곡동)</td>\n",
       "      <td>1384</td>\n",
       "      <td>SK에너지</td>\n",
       "      <td>Y</td>\n",
       "      <td>서울</td>\n",
       "    </tr>\n",
       "    <tr>\n",
       "      <th>2</th>\n",
       "      <td>서울특별시</td>\n",
       "      <td>현대오일뱅크 도곡셀프주유소</td>\n",
       "      <td>서울 강남구  남부순환로 2718 (도곡2동)</td>\n",
       "      <td>1384</td>\n",
       "      <td>현대오일뱅크</td>\n",
       "      <td>Y</td>\n",
       "      <td>서울</td>\n",
       "    </tr>\n",
       "    <tr>\n",
       "      <th>3</th>\n",
       "      <td>서울특별시</td>\n",
       "      <td>GS칼텍스(주)직영 산성주유소</td>\n",
       "      <td>서울 강남구 헌릉로 730</td>\n",
       "      <td>1385</td>\n",
       "      <td>GS칼텍스</td>\n",
       "      <td>Y</td>\n",
       "      <td>서울</td>\n",
       "    </tr>\n",
       "    <tr>\n",
       "      <th>4</th>\n",
       "      <td>서울특별시</td>\n",
       "      <td>방죽주유소</td>\n",
       "      <td>서울 강남구 밤고개로 215 (율현동)</td>\n",
       "      <td>1389</td>\n",
       "      <td>S-OIL</td>\n",
       "      <td>Y</td>\n",
       "      <td>서울</td>\n",
       "    </tr>\n",
       "  </tbody>\n",
       "</table>\n",
       "</div>"
      ],
      "text/plain": [
       "    sido             os_nm                    new_adr oil_price poll_div_cd  \\\n",
       "0  서울특별시       (주)보성 세곡주유소      서울 강남구  헌릉로 731 (세곡동)      1363       SK에너지   \n",
       "1  서울특별시          오일프러스 셀프    서울 강남구 남부순환로 2651 (도곡동)      1384       SK에너지   \n",
       "2  서울특별시    현대오일뱅크 도곡셀프주유소  서울 강남구  남부순환로 2718 (도곡2동)      1384      현대오일뱅크   \n",
       "3  서울특별시  GS칼텍스(주)직영 산성주유소             서울 강남구 헌릉로 730      1385       GS칼텍스   \n",
       "4  서울특별시             방죽주유소      서울 강남구 밤고개로 215 (율현동)      1389       S-OIL   \n",
       "\n",
       "  self_yn  si  \n",
       "0       Y  서울  \n",
       "1       Y  서울  \n",
       "2       Y  서울  \n",
       "3       Y  서울  \n",
       "4       Y  서울  "
      ]
     },
     "execution_count": 158,
     "metadata": {},
     "output_type": "execute_result"
    }
   ],
   "source": [
    "# 구 이름 추출 \n",
    "stations['si']  = [eachAddress.split()[0] for eachAddress in stations[\"new_adr\"]] \n",
    "stations.head()"
   ]
  },
  {
   "cell_type": "code",
   "execution_count": 159,
   "metadata": {
    "ExecuteTime": {
     "end_time": "2020-10-18T03:36:45.510982Z",
     "start_time": "2020-10-18T03:36:45.490035Z"
    }
   },
   "outputs": [
    {
     "data": {
      "text/html": [
       "<div>\n",
       "<style scoped>\n",
       "    .dataframe tbody tr th:only-of-type {\n",
       "        vertical-align: middle;\n",
       "    }\n",
       "\n",
       "    .dataframe tbody tr th {\n",
       "        vertical-align: top;\n",
       "    }\n",
       "\n",
       "    .dataframe thead th {\n",
       "        text-align: right;\n",
       "    }\n",
       "</style>\n",
       "<table border=\"1\" class=\"dataframe\">\n",
       "  <thead>\n",
       "    <tr style=\"text-align: right;\">\n",
       "      <th></th>\n",
       "      <th>sido</th>\n",
       "      <th>os_nm</th>\n",
       "      <th>new_adr</th>\n",
       "      <th>oil_price</th>\n",
       "      <th>poll_div_cd</th>\n",
       "      <th>self_yn</th>\n",
       "      <th>si</th>\n",
       "      <th>gu</th>\n",
       "    </tr>\n",
       "  </thead>\n",
       "  <tbody>\n",
       "    <tr>\n",
       "      <th>0</th>\n",
       "      <td>서울특별시</td>\n",
       "      <td>(주)보성 세곡주유소</td>\n",
       "      <td>서울 강남구  헌릉로 731 (세곡동)</td>\n",
       "      <td>1363</td>\n",
       "      <td>SK에너지</td>\n",
       "      <td>Y</td>\n",
       "      <td>서울</td>\n",
       "      <td>강남구</td>\n",
       "    </tr>\n",
       "    <tr>\n",
       "      <th>1</th>\n",
       "      <td>서울특별시</td>\n",
       "      <td>오일프러스 셀프</td>\n",
       "      <td>서울 강남구 남부순환로 2651 (도곡동)</td>\n",
       "      <td>1384</td>\n",
       "      <td>SK에너지</td>\n",
       "      <td>Y</td>\n",
       "      <td>서울</td>\n",
       "      <td>강남구</td>\n",
       "    </tr>\n",
       "    <tr>\n",
       "      <th>2</th>\n",
       "      <td>서울특별시</td>\n",
       "      <td>현대오일뱅크 도곡셀프주유소</td>\n",
       "      <td>서울 강남구  남부순환로 2718 (도곡2동)</td>\n",
       "      <td>1384</td>\n",
       "      <td>현대오일뱅크</td>\n",
       "      <td>Y</td>\n",
       "      <td>서울</td>\n",
       "      <td>강남구</td>\n",
       "    </tr>\n",
       "    <tr>\n",
       "      <th>3</th>\n",
       "      <td>서울특별시</td>\n",
       "      <td>GS칼텍스(주)직영 산성주유소</td>\n",
       "      <td>서울 강남구 헌릉로 730</td>\n",
       "      <td>1385</td>\n",
       "      <td>GS칼텍스</td>\n",
       "      <td>Y</td>\n",
       "      <td>서울</td>\n",
       "      <td>강남구</td>\n",
       "    </tr>\n",
       "    <tr>\n",
       "      <th>4</th>\n",
       "      <td>서울특별시</td>\n",
       "      <td>방죽주유소</td>\n",
       "      <td>서울 강남구 밤고개로 215 (율현동)</td>\n",
       "      <td>1389</td>\n",
       "      <td>S-OIL</td>\n",
       "      <td>Y</td>\n",
       "      <td>서울</td>\n",
       "      <td>강남구</td>\n",
       "    </tr>\n",
       "  </tbody>\n",
       "</table>\n",
       "</div>"
      ],
      "text/plain": [
       "    sido             os_nm                    new_adr oil_price poll_div_cd  \\\n",
       "0  서울특별시       (주)보성 세곡주유소      서울 강남구  헌릉로 731 (세곡동)      1363       SK에너지   \n",
       "1  서울특별시          오일프러스 셀프    서울 강남구 남부순환로 2651 (도곡동)      1384       SK에너지   \n",
       "2  서울특별시    현대오일뱅크 도곡셀프주유소  서울 강남구  남부순환로 2718 (도곡2동)      1384      현대오일뱅크   \n",
       "3  서울특별시  GS칼텍스(주)직영 산성주유소             서울 강남구 헌릉로 730      1385       GS칼텍스   \n",
       "4  서울특별시             방죽주유소      서울 강남구 밤고개로 215 (율현동)      1389       S-OIL   \n",
       "\n",
       "  self_yn  si   gu  \n",
       "0       Y  서울  강남구  \n",
       "1       Y  서울  강남구  \n",
       "2       Y  서울  강남구  \n",
       "3       Y  서울  강남구  \n",
       "4       Y  서울  강남구  "
      ]
     },
     "execution_count": 159,
     "metadata": {},
     "output_type": "execute_result"
    }
   ],
   "source": [
    "# 구 이름 추출 \n",
    "stations['gu']  = [eachAddress.split()[1] for eachAddress in stations[\"new_adr\"]] \n",
    "stations.head()"
   ]
  },
  {
   "cell_type": "code",
   "execution_count": 162,
   "metadata": {
    "ExecuteTime": {
     "end_time": "2020-10-18T03:36:58.470323Z",
     "start_time": "2020-10-18T03:36:58.459351Z"
    }
   },
   "outputs": [
    {
     "data": {
      "text/plain": [
       "array(['서울', '서울특별시', '경기', '경기도', '부산', '부산광역시', '대구', '대구광역시', '인천',\n",
       "       '인천광역시', '광주', '광주광역시', '광주시', '대전', '대전광역시', '울산', '울산광역시',\n",
       "       '세종특별자치시', '세종', '세종시', '강원', '강원도', '충북', '충청북도', '충남', '충청남도',\n",
       "       '청남', '전북', '전라북도', '전남', '전라남도', '경북', '경상북도', '경남', '경상남도', '제주',\n",
       "       '제주특별자치도', '제주도'], dtype=object)"
      ]
     },
     "execution_count": 162,
     "metadata": {},
     "output_type": "execute_result"
    }
   ],
   "source": [
    "# unique() 검사 \n",
    "stations[\"si\"].unique() # 잘 뽑혔는지 확인"
   ]
  },
  {
   "cell_type": "code",
   "execution_count": 166,
   "metadata": {
    "ExecuteTime": {
     "end_time": "2020-10-18T03:38:35.536565Z",
     "start_time": "2020-10-18T03:38:35.517584Z"
    }
   },
   "outputs": [
    {
     "data": {
      "text/html": [
       "<div>\n",
       "<style scoped>\n",
       "    .dataframe tbody tr th:only-of-type {\n",
       "        vertical-align: middle;\n",
       "    }\n",
       "\n",
       "    .dataframe tbody tr th {\n",
       "        vertical-align: top;\n",
       "    }\n",
       "\n",
       "    .dataframe thead th {\n",
       "        text-align: right;\n",
       "    }\n",
       "</style>\n",
       "<table border=\"1\" class=\"dataframe\">\n",
       "  <thead>\n",
       "    <tr style=\"text-align: right;\">\n",
       "      <th></th>\n",
       "      <th>sido</th>\n",
       "      <th>os_nm</th>\n",
       "      <th>new_adr</th>\n",
       "      <th>oil_price</th>\n",
       "      <th>poll_div_cd</th>\n",
       "      <th>self_yn</th>\n",
       "      <th>si</th>\n",
       "      <th>gu</th>\n",
       "    </tr>\n",
       "  </thead>\n",
       "  <tbody>\n",
       "    <tr>\n",
       "      <th>34</th>\n",
       "      <td>서울특별시</td>\n",
       "      <td>동우주유소</td>\n",
       "      <td>서울특별시 강남구  봉은사로 311 (논현동)</td>\n",
       "      <td>-</td>\n",
       "      <td>SK에너지</td>\n",
       "      <td>N</td>\n",
       "      <td>서울특별시</td>\n",
       "      <td>강남구</td>\n",
       "    </tr>\n",
       "    <tr>\n",
       "      <th>2</th>\n",
       "      <td>서울특별시</td>\n",
       "      <td>정다운셀프주유소</td>\n",
       "      <td>서울특별시 도봉구 도봉로 635 (쌍문동)</td>\n",
       "      <td>1279</td>\n",
       "      <td>SK에너지</td>\n",
       "      <td>Y</td>\n",
       "      <td>서울특별시</td>\n",
       "      <td>도봉구</td>\n",
       "    </tr>\n",
       "    <tr>\n",
       "      <th>7</th>\n",
       "      <td>서울특별시</td>\n",
       "      <td>동일석유(주)강남주유소</td>\n",
       "      <td>서울특별시 동대문구  사가정로 103 (전농동)</td>\n",
       "      <td>1329</td>\n",
       "      <td>SK에너지</td>\n",
       "      <td>N</td>\n",
       "      <td>서울특별시</td>\n",
       "      <td>동대문구</td>\n",
       "    </tr>\n",
       "    <tr>\n",
       "      <th>4</th>\n",
       "      <td>서울특별시</td>\n",
       "      <td>에쓰오일(주)직영 오토테크주유소</td>\n",
       "      <td>서울특별시 서초구  효령로 356 (서초동)</td>\n",
       "      <td>1390</td>\n",
       "      <td>S-OIL</td>\n",
       "      <td>Y</td>\n",
       "      <td>서울특별시</td>\n",
       "      <td>서초구</td>\n",
       "    </tr>\n",
       "    <tr>\n",
       "      <th>24</th>\n",
       "      <td>서울특별시</td>\n",
       "      <td>(주)선문에너지 중앙주유소</td>\n",
       "      <td>서울특별시 서초구  바우뫼로 219 (양재1동)</td>\n",
       "      <td>1878</td>\n",
       "      <td>S-OIL</td>\n",
       "      <td>N</td>\n",
       "      <td>서울특별시</td>\n",
       "      <td>서초구</td>\n",
       "    </tr>\n",
       "    <tr>\n",
       "      <th>15</th>\n",
       "      <td>서울특별시</td>\n",
       "      <td>동일주유소</td>\n",
       "      <td>서울특별시 성북구  보문로 85 (보문동5가)</td>\n",
       "      <td>1386</td>\n",
       "      <td>GS칼텍스</td>\n",
       "      <td>N</td>\n",
       "      <td>서울특별시</td>\n",
       "      <td>성북구</td>\n",
       "    </tr>\n",
       "    <tr>\n",
       "      <th>6</th>\n",
       "      <td>서울특별시</td>\n",
       "      <td>(주)퍼스트오일 코알라주유소</td>\n",
       "      <td>서울특별시 강동구  올림픽로 556 (성내동)</td>\n",
       "      <td>1418</td>\n",
       "      <td>S-OIL</td>\n",
       "      <td>Y</td>\n",
       "      <td>서울특별시</td>\n",
       "      <td>강동구</td>\n",
       "    </tr>\n",
       "    <tr>\n",
       "      <th>10</th>\n",
       "      <td>서울특별시</td>\n",
       "      <td>하이웨이주유소</td>\n",
       "      <td>서울특별시 강서구 공항대로 432(화곡동)</td>\n",
       "      <td>1347</td>\n",
       "      <td>S-OIL</td>\n",
       "      <td>Y</td>\n",
       "      <td>서울특별시</td>\n",
       "      <td>강서구</td>\n",
       "    </tr>\n",
       "    <tr>\n",
       "      <th>7</th>\n",
       "      <td>서울특별시</td>\n",
       "      <td>관악시몬주유소</td>\n",
       "      <td>서울특별시 관악구 남부순환로 1753 (봉천동)</td>\n",
       "      <td>1437</td>\n",
       "      <td>S-OIL</td>\n",
       "      <td>N</td>\n",
       "      <td>서울특별시</td>\n",
       "      <td>관악구</td>\n",
       "    </tr>\n",
       "    <tr>\n",
       "      <th>1</th>\n",
       "      <td>서울특별시</td>\n",
       "      <td>구광주유소</td>\n",
       "      <td>서울특별시 금천구  서부샛길 674 (가산동)</td>\n",
       "      <td>1285</td>\n",
       "      <td>S-OIL</td>\n",
       "      <td>N</td>\n",
       "      <td>서울특별시</td>\n",
       "      <td>금천구</td>\n",
       "    </tr>\n",
       "    <tr>\n",
       "      <th>4</th>\n",
       "      <td>서울특별시</td>\n",
       "      <td>백산주유소</td>\n",
       "      <td>서울특별시 금천구  시흥대로 174 (시흥동)</td>\n",
       "      <td>1294</td>\n",
       "      <td>S-OIL</td>\n",
       "      <td>Y</td>\n",
       "      <td>서울특별시</td>\n",
       "      <td>금천구</td>\n",
       "    </tr>\n",
       "  </tbody>\n",
       "</table>\n",
       "</div>"
      ],
      "text/plain": [
       "     sido              os_nm                     new_adr oil_price  \\\n",
       "34  서울특별시              동우주유소   서울특별시 강남구  봉은사로 311 (논현동)         -   \n",
       "2   서울특별시           정다운셀프주유소     서울특별시 도봉구 도봉로 635 (쌍문동)      1279   \n",
       "7   서울특별시       동일석유(주)강남주유소  서울특별시 동대문구  사가정로 103 (전농동)      1329   \n",
       "4   서울특별시  에쓰오일(주)직영 오토테크주유소    서울특별시 서초구  효령로 356 (서초동)      1390   \n",
       "24  서울특별시     (주)선문에너지 중앙주유소  서울특별시 서초구  바우뫼로 219 (양재1동)      1878   \n",
       "15  서울특별시              동일주유소   서울특별시 성북구  보문로 85 (보문동5가)      1386   \n",
       "6   서울특별시    (주)퍼스트오일 코알라주유소   서울특별시 강동구  올림픽로 556 (성내동)      1418   \n",
       "10  서울특별시            하이웨이주유소     서울특별시 강서구 공항대로 432(화곡동)      1347   \n",
       "7   서울특별시            관악시몬주유소  서울특별시 관악구 남부순환로 1753 (봉천동)      1437   \n",
       "1   서울특별시              구광주유소   서울특별시 금천구  서부샛길 674 (가산동)      1285   \n",
       "4   서울특별시              백산주유소   서울특별시 금천구  시흥대로 174 (시흥동)      1294   \n",
       "\n",
       "   poll_div_cd self_yn     si    gu  \n",
       "34       SK에너지       N  서울특별시   강남구  \n",
       "2        SK에너지       Y  서울특별시   도봉구  \n",
       "7        SK에너지       N  서울특별시  동대문구  \n",
       "4        S-OIL       Y  서울특별시   서초구  \n",
       "24       S-OIL       N  서울특별시   서초구  \n",
       "15       GS칼텍스       N  서울특별시   성북구  \n",
       "6        S-OIL       Y  서울특별시   강동구  \n",
       "10       S-OIL       Y  서울특별시   강서구  \n",
       "7        S-OIL       N  서울특별시   관악구  \n",
       "1        S-OIL       N  서울특별시   금천구  \n",
       "4        S-OIL       Y  서울특별시   금천구  "
      ]
     },
     "execution_count": 166,
     "metadata": {},
     "output_type": "execute_result"
    }
   ],
   "source": [
    "stations.loc[stations[\"si\"] == \"서울특별시\"]"
   ]
  },
  {
   "cell_type": "code",
   "execution_count": null,
   "metadata": {},
   "outputs": [],
   "source": [
    "stations.loc[stations[\"구\"] == \"서울특별시\", \"구\"] ==\"성동구\""
   ]
  },
  {
   "cell_type": "code",
   "execution_count": 163,
   "metadata": {
    "ExecuteTime": {
     "end_time": "2020-10-18T03:37:08.371843Z",
     "start_time": "2020-10-18T03:37:08.364895Z"
    }
   },
   "outputs": [
    {
     "data": {
      "text/plain": [
       "['서울특별시',\n",
       " '부산광역시',\n",
       " '대구광역시',\n",
       " '인천광역시',\n",
       " '광주광역시',\n",
       " '대전광역시',\n",
       " '울산광역시',\n",
       " '세종특별자치시',\n",
       " '경기도',\n",
       " '강원도',\n",
       " '충청북도',\n",
       " '충청남도',\n",
       " '전라북도',\n",
       " '전라남도',\n",
       " '경상북도',\n",
       " '경상남도',\n",
       " '제주특별자치도']"
      ]
     },
     "execution_count": 163,
     "metadata": {},
     "output_type": "execute_result"
    }
   ],
   "source": [
    "si_names"
   ]
  },
  {
   "cell_type": "code",
   "execution_count": null,
   "metadata": {},
   "outputs": [],
   "source": [
    "# unique() 검사 \n",
    "stations[\"구\"].unique() # 잘 뽑혔는지 확인"
   ]
  },
  {
   "cell_type": "code",
   "execution_count": 119,
   "metadata": {
    "ExecuteTime": {
     "end_time": "2020-10-18T03:26:21.322438Z",
     "start_time": "2020-10-18T03:26:21.309470Z"
    }
   },
   "outputs": [
    {
     "ename": "SyntaxError",
     "evalue": "invalid syntax (<ipython-input-119-007f30f3716e>, line 2)",
     "output_type": "error",
     "traceback": [
      "\u001b[1;36m  File \u001b[1;32m\"<ipython-input-119-007f30f3716e>\"\u001b[1;36m, line \u001b[1;32m2\u001b[0m\n\u001b[1;33m    if stations[stations[\"가격\"] ==\"-\"]\u001b[0m\n\u001b[1;37m                                     ^\u001b[0m\n\u001b[1;31mSyntaxError\u001b[0m\u001b[1;31m:\u001b[0m invalid syntax\n"
     ]
    }
   ],
   "source": [
    "stations[stations[\"가격\"] == \"-\"]"
   ]
  },
  {
   "cell_type": "code",
   "execution_count": null,
   "metadata": {},
   "outputs": [],
   "source": [
    "# * 2. 정보가 기입되지 않은 주유소는 대상에서 제외 \n",
    "stations = stations[stations[\"가격\"] != '-']\n",
    "stations.head()"
   ]
  },
  {
   "cell_type": "code",
   "execution_count": null,
   "metadata": {},
   "outputs": [],
   "source": [
    "stations_null = stations[stations[\"가격\"]=!= '-']\n",
    "stations_null.head()"
   ]
  },
  {
   "cell_type": "code",
   "execution_count": null,
   "metadata": {},
   "outputs": [],
   "source": [
    "stations[\"가격\"] = [float(value) for value in stations[\"가격\"]]"
   ]
  },
  {
   "cell_type": "code",
   "execution_count": null,
   "metadata": {},
   "outputs": [],
   "source": [
    "stations.info() # 가격 정보가 float 으로 바뀜"
   ]
  },
  {
   "cell_type": "code",
   "execution_count": null,
   "metadata": {},
   "outputs": [],
   "source": [
    "stations.reset_index(inplace = True) # 인덱스를 처음부터 다시 기록하도록 함 \n",
    "del stations[\"index\"] # index 라는 컬럼이 하나 더 생성되어, 그 부분 제거"
   ]
  },
  {
   "cell_type": "code",
   "execution_count": null,
   "metadata": {},
   "outputs": [],
   "source": [
    "# 구별로 가격 평균 구하기 \n",
    "import numpy as np \n",
    "si_gu_data =pd.pivot_table(stations, index =[\"시\",\"구\"] , values = [\"가격\"], \n",
    "                       aggfunc = np.mean)"
   ]
  },
  {
   "cell_type": "code",
   "execution_count": null,
   "metadata": {
    "ExecuteTime": {
     "end_time": "2020-10-18T03:26:21.327423Z",
     "start_time": "2020-10-18T03:24:06.954Z"
    }
   },
   "outputs": [],
   "source": [
    "stations_null = stations[stations[\"가격\"]=!= '-']\n",
    "pd.merge(stations_null, si_gu_data, \n",
    "         how = \"left\", left_on = [\"시\",\"구\"], right_on = [\"시\",\"구\"])"
   ]
  },
  {
   "cell_type": "code",
   "execution_count": null,
   "metadata": {},
   "outputs": [],
   "source": [
    "stations_[\"가격\"] = [float(value) for value in stations[\"가격\"]]"
   ]
  },
  {
   "cell_type": "code",
   "execution_count": null,
   "metadata": {},
   "outputs": [],
   "source": []
  },
  {
   "cell_type": "code",
   "execution_count": null,
   "metadata": {},
   "outputs": [],
   "source": []
  },
  {
   "cell_type": "code",
   "execution_count": null,
   "metadata": {},
   "outputs": [],
   "source": []
  },
  {
   "cell_type": "code",
   "execution_count": null,
   "metadata": {},
   "outputs": [],
   "source": []
  },
  {
   "cell_type": "code",
   "execution_count": null,
   "metadata": {},
   "outputs": [],
   "source": []
  },
  {
   "cell_type": "code",
   "execution_count": null,
   "metadata": {},
   "outputs": [],
   "source": []
  },
  {
   "cell_type": "code",
   "execution_count": null,
   "metadata": {},
   "outputs": [],
   "source": []
  },
  {
   "cell_type": "code",
   "execution_count": null,
   "metadata": {},
   "outputs": [],
   "source": []
  },
  {
   "cell_type": "code",
   "execution_count": null,
   "metadata": {},
   "outputs": [],
   "source": []
  },
  {
   "cell_type": "code",
   "execution_count": null,
   "metadata": {},
   "outputs": [],
   "source": []
  }
 ],
 "metadata": {
  "kernelspec": {
   "display_name": "Python 3",
   "language": "python",
   "name": "python3"
  },
  "language_info": {
   "codemirror_mode": {
    "name": "ipython",
    "version": 3
   },
   "file_extension": ".py",
   "mimetype": "text/x-python",
   "name": "python",
   "nbconvert_exporter": "python",
   "pygments_lexer": "ipython3",
   "version": "3.8.0"
  },
  "toc": {
   "base_numbering": 1,
   "nav_menu": {},
   "number_sections": true,
   "sideBar": true,
   "skip_h1_title": false,
   "title_cell": "Table of Contents",
   "title_sidebar": "Contents",
   "toc_cell": false,
   "toc_position": {},
   "toc_section_display": true,
   "toc_window_display": false
  },
  "varInspector": {
   "cols": {
    "lenName": 16,
    "lenType": 16,
    "lenVar": 40
   },
   "kernels_config": {
    "python": {
     "delete_cmd_postfix": "",
     "delete_cmd_prefix": "del ",
     "library": "var_list.py",
     "varRefreshCmd": "print(var_dic_list())"
    },
    "r": {
     "delete_cmd_postfix": ") ",
     "delete_cmd_prefix": "rm(",
     "library": "var_list.r",
     "varRefreshCmd": "cat(var_dic_list()) "
    }
   },
   "types_to_exclude": [
    "module",
    "function",
    "builtin_function_or_method",
    "instance",
    "_Feature"
   ],
   "window_display": false
  }
 },
 "nbformat": 4,
 "nbformat_minor": 4
}
