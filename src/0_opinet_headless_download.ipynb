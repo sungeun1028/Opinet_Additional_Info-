{
 "cells": [
  {
   "cell_type": "code",
   "execution_count": 1,
   "metadata": {
    "ExecuteTime": {
     "end_time": "2020-10-19T05:56:20.303857Z",
     "start_time": "2020-10-19T05:56:19.657314Z"
    }
   },
   "outputs": [],
   "source": [
    "# pip install selenium --trusted-host pypi.python.org --trusted-host files.pythonhosted.org --trusted-host pypi.org\n",
    "from selenium import webdriver\n",
    "import pandas as pd\n",
    "import time \n",
    "import datetime as dt\n",
    "from dateutil.relativedelta import relativedelta"
   ]
  },
  {
   "cell_type": "code",
   "execution_count": 43,
   "metadata": {
    "ExecuteTime": {
     "end_time": "2020-10-19T06:52:12.420245Z",
     "start_time": "2020-10-19T06:52:09.319115Z"
    }
   },
   "outputs": [
    {
     "name": "stderr",
     "output_type": "stream",
     "text": [
      "<ipython-input-43-2079be24ccb4>:12: DeprecationWarning: use options instead of chrome_options\n",
      "  driver = webdriver.Chrome(chrome_options=options, executable_path=r'C:/Users/Sung/Downloads/chromedriver.exe')\n"
     ]
    },
    {
     "name": "stdout",
     "output_type": "stream",
     "text": [
      "Headless Chrome Initialized\n"
     ]
    },
    {
     "data": {
      "text/plain": [
       "{}"
      ]
     },
     "execution_count": 43,
     "metadata": {},
     "output_type": "execute_result"
    }
   ],
   "source": [
    "from selenium import webdriver\n",
    "from selenium.webdriver.common.by import By\n",
    "from selenium.webdriver.support.ui import WebDriverWait\n",
    "from selenium.webdriver.support import expected_conditions as EC\n",
    "from selenium.webdriver.chrome.options import Options\n",
    "\n",
    "options = Options()\n",
    "options.add_argument(\"--headless\")\n",
    "options.add_argument(\"--window-size=1920,1080\")\n",
    "options.add_experimental_option(\"excludeSwitches\", [\"enable-automation\"])\n",
    "options.add_experimental_option('useAutomationExtension', False)\n",
    "driver = webdriver.Chrome(chrome_options=options, executable_path=r'C:/Users/Sung/Downloads/chromedriver.exe')\n",
    "print (\"Headless Chrome Initialized\")\n",
    "params = {'behavior': 'allow', 'downloadPath': r'C:\\Users\\Sung\\Downloads'}\n",
    "driver.execute_cdp_cmd('Page.setDownloadBehavior', params)"
   ]
  },
  {
   "cell_type": "code",
   "execution_count": 20,
   "metadata": {
    "ExecuteTime": {
     "end_time": "2020-10-19T06:32:27.814403Z",
     "start_time": "2020-10-19T06:32:22.686225Z"
    }
   },
   "outputs": [
    {
     "data": {
      "text/plain": [
       "{'value': None}"
      ]
     },
     "execution_count": 20,
     "metadata": {},
     "output_type": "execute_result"
    }
   ],
   "source": [
    "# prefs = {'download.prompt_for_download': False,\n",
    "#          'download.directory_upgrade': True,\n",
    "#          'safebrowsing.enabled': False,\n",
    "#          'safebrowsing.disable_download_protection': True}\n",
    "\n",
    "# options.add_argument('--headless')\n",
    "# options.add_experimental_option('prefs', prefs)\n",
    "# driver = webdriver.Chrome('C:/Users/Sung/Downloads/chromedriver.exe', options=options)\n",
    "# driver.command_executor._commands[\"send_command\"] = (\"POST\", '/session/$sessionId/chromium/send_command')\n",
    "# driver.desired_capabilities['browserName'] = 'ur mum'\n",
    "# params = {'cmd': 'Page.setDownloadBehavior', 'params': {'behavior': 'allow', 'downloadPath': r'C:\\chickenbutt'}}\n",
    "# driver.execute(\"send_command\", params)"
   ]
  },
  {
   "cell_type": "code",
   "execution_count": 44,
   "metadata": {
    "ExecuteTime": {
     "end_time": "2020-10-19T06:52:14.236586Z",
     "start_time": "2020-10-19T06:52:14.231601Z"
    }
   },
   "outputs": [],
   "source": [
    "# options = webdriver.ChromeOptions()\n",
    "# options.add_argument('headless')\n",
    "# options.add_argument('window-size=1920x1080')\n",
    "# options.add_argument(\"disable-gpu\")\n",
    "# # 혹은 options.add_argument(\"--disable-gpu\")\n",
    "\n",
    "# driver = webdriver.Chrome(\"C:/Users/Sung/Downloads/chromedriver.exe\", options=options)"
   ]
  },
  {
   "cell_type": "code",
   "execution_count": 45,
   "metadata": {
    "ExecuteTime": {
     "end_time": "2020-10-19T06:52:31.405227Z",
     "start_time": "2020-10-19T06:52:15.080627Z"
    }
   },
   "outputs": [
    {
     "data": {
      "text/plain": [
       "True"
      ]
     },
     "execution_count": 45,
     "metadata": {},
     "output_type": "execute_result"
    }
   ],
   "source": [
    "# 오피넷 접속하기\n",
    "url = \"http://www.opinet.co.kr/user/opdown/opDownload.do\"\n",
    "driver.get('http://www.opinet.co.kr/user/opdown/opDownload.do')\n",
    "time.sleep(2)\n",
    "driver.get_screenshot_as_file('C:/Users/Sung/Desktop/Opinet_Data/src_코드정보/screenshot.png')"
   ]
  },
  {
   "cell_type": "code",
   "execution_count": 46,
   "metadata": {
    "ExecuteTime": {
     "end_time": "2020-10-19T06:52:31.452921Z",
     "start_time": "2020-10-19T06:52:31.437891Z"
    }
   },
   "outputs": [],
   "source": [
    "# [1] [Start/ End] date input \n",
    "def date_input_start(date):\n",
    "    input_id = driver.find_elements_by_css_selector('#span_start_date_picker')[0]\n",
    "    input_id.clear()\n",
    "    input_id.send_keys(date)\n",
    "    \n",
    "def date_input_end(date):\n",
    "    input_id = driver.find_elements_by_css_selector('#span_end_date_picker')[0]\n",
    "    input_id.clear()\n",
    "    input_id.send_keys(date)"
   ]
  },
  {
   "cell_type": "code",
   "execution_count": 47,
   "metadata": {
    "ExecuteTime": {
     "end_time": "2020-10-19T06:52:31.499887Z",
     "start_time": "2020-10-19T06:52:31.484881Z"
    }
   },
   "outputs": [],
   "source": [
    "today = dt.date.today()\n",
    "\n",
    "start_date_list = pd.date_range(start = '20150101', end= today)\n",
    "end_date_list = pd.date_range(start= '20150101', end = today)"
   ]
  },
  {
   "cell_type": "code",
   "execution_count": 48,
   "metadata": {
    "ExecuteTime": {
     "end_time": "2020-10-19T06:52:31.547906Z",
     "start_time": "2020-10-19T06:52:31.532753Z"
    }
   },
   "outputs": [],
   "source": [
    "today = dt.date.today()\n",
    "\n",
    "start_date_list = pd.date_range(start = '20201018', end= today)\n",
    "end_date_list = pd.date_range(start= '20201018', end = today)"
   ]
  },
  {
   "cell_type": "code",
   "execution_count": 49,
   "metadata": {
    "ExecuteTime": {
     "end_time": "2020-10-19T06:52:47.889190Z",
     "start_time": "2020-10-19T06:52:31.580691Z"
    }
   },
   "outputs": [],
   "source": [
    "for i in range(len(start_date_list)):\n",
    "    start_date = str(start_date_list[i].strftime('%Y%m%d'))\n",
    "    end_date = str(end_date_list[i].strftime('%Y%m%d'))\n",
    "    \n",
    "    date_input_start(start_date)\n",
    "    time.sleep(2)\n",
    "    date_input_end(end_date)\n",
    "    time.sleep(2)\n",
    "\n",
    "    driver.execute_script(\"return fn_Download(6)\")\n",
    "    alert = driver.switch_to.alert\n",
    "    alert.accept() \n",
    "    time.sleep(1)\n",
    "    #driver.get_screenshot_as_file('C:/Users/Sung/Desktop/Opinet_Data/src_코드정보/screenshot2.png')\n",
    "    time.sleep(3)"
   ]
  }
 ],
 "metadata": {
  "kernelspec": {
   "display_name": "Python 3",
   "language": "python",
   "name": "python3"
  },
  "language_info": {
   "codemirror_mode": {
    "name": "ipython",
    "version": 3
   },
   "file_extension": ".py",
   "mimetype": "text/x-python",
   "name": "python",
   "nbconvert_exporter": "python",
   "pygments_lexer": "ipython3",
   "version": "3.8.0"
  },
  "toc": {
   "base_numbering": 1,
   "nav_menu": {},
   "number_sections": true,
   "sideBar": true,
   "skip_h1_title": false,
   "title_cell": "Table of Contents",
   "title_sidebar": "Contents",
   "toc_cell": false,
   "toc_position": {},
   "toc_section_display": true,
   "toc_window_display": false
  },
  "varInspector": {
   "cols": {
    "lenName": 16,
    "lenType": 16,
    "lenVar": 40
   },
   "kernels_config": {
    "python": {
     "delete_cmd_postfix": "",
     "delete_cmd_prefix": "del ",
     "library": "var_list.py",
     "varRefreshCmd": "print(var_dic_list())"
    },
    "r": {
     "delete_cmd_postfix": ") ",
     "delete_cmd_prefix": "rm(",
     "library": "var_list.r",
     "varRefreshCmd": "cat(var_dic_list()) "
    }
   },
   "types_to_exclude": [
    "module",
    "function",
    "builtin_function_or_method",
    "instance",
    "_Feature"
   ],
   "window_display": false
  }
 },
 "nbformat": 4,
 "nbformat_minor": 4
}
