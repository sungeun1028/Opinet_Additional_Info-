{
 "cells": [
  {
   "cell_type": "code",
   "execution_count": 1,
   "metadata": {
    "ExecuteTime": {
     "end_time": "2020-10-19T02:56:03.055218Z",
     "start_time": "2020-10-19T02:54:54.123281Z"
    }
   },
   "outputs": [],
   "source": [
    "import pandas as pd \n",
    "oil_final = pd.read_csv(\"C:/Users/Sung/Desktop/Opinet_Data/주유소_부가정보/opinet_final.csv\", encoding= \"cp949\")\n",
    "oil_add_info = pd.read_csv(\"C:/Users/Sung/Desktop/Opinet_Data/주유소_부가정보/oil_add_info.csv\", encoding= \"cp949\")"
   ]
  },
  {
   "cell_type": "code",
   "execution_count": 2,
   "metadata": {
    "ExecuteTime": {
     "end_time": "2020-10-19T02:56:46.682013Z",
     "start_time": "2020-10-19T02:56:46.658077Z"
    }
   },
   "outputs": [
    {
     "name": "stdout",
     "output_type": "stream",
     "text": [
      "<class 'pandas.core.frame.DataFrame'>\n",
      "RangeIndex: 24421334 entries, 0 to 24421333\n",
      "Data columns (total 11 columns):\n",
      " #   Column  Dtype \n",
      "---  ------  ----- \n",
      " 0   번호      object\n",
      " 1   지역      object\n",
      " 2   상호      object\n",
      " 3   주소      object\n",
      " 4   기간      int64 \n",
      " 5   상표      object\n",
      " 6   셀프여부    object\n",
      " 7   고급휘발유   int64 \n",
      " 8   휘발유     int64 \n",
      " 9   경유      int64 \n",
      " 10  실내등유    int64 \n",
      "dtypes: int64(5), object(6)\n",
      "memory usage: 2.0+ GB\n"
     ]
    }
   ],
   "source": [
    "oil_final.info()"
   ]
  },
  {
   "cell_type": "code",
   "execution_count": 12,
   "metadata": {
    "ExecuteTime": {
     "end_time": "2020-10-18T04:53:01.581349Z",
     "start_time": "2020-10-18T04:53:00.543127Z"
    }
   },
   "outputs": [
    {
     "data": {
      "text/html": [
       "<div>\n",
       "<style scoped>\n",
       "    .dataframe tbody tr th:only-of-type {\n",
       "        vertical-align: middle;\n",
       "    }\n",
       "\n",
       "    .dataframe tbody tr th {\n",
       "        vertical-align: top;\n",
       "    }\n",
       "\n",
       "    .dataframe thead th {\n",
       "        text-align: right;\n",
       "    }\n",
       "</style>\n",
       "<table border=\"1\" class=\"dataframe\">\n",
       "  <thead>\n",
       "    <tr style=\"text-align: right;\">\n",
       "      <th></th>\n",
       "      <th>sido</th>\n",
       "      <th>os_nm</th>\n",
       "      <th>new_adr</th>\n",
       "      <th>trade_dt</th>\n",
       "      <th>oil_price</th>\n",
       "      <th>poll_div_cd</th>\n",
       "      <th>self_yn</th>\n",
       "    </tr>\n",
       "  </thead>\n",
       "  <tbody>\n",
       "    <tr>\n",
       "      <th>0</th>\n",
       "      <td>강원 강릉시</td>\n",
       "      <td>(주)동해에너지주유소</td>\n",
       "      <td>강원 강릉시 경강로 2101(임당동)</td>\n",
       "      <td>20200909</td>\n",
       "      <td>1330</td>\n",
       "      <td>SK에너지</td>\n",
       "      <td>셀프</td>\n",
       "    </tr>\n",
       "    <tr>\n",
       "      <th>1</th>\n",
       "      <td>강원 강릉시</td>\n",
       "      <td>(주)동해에너지주유소</td>\n",
       "      <td>강원 강릉시 경강로 2101(임당동)</td>\n",
       "      <td>20200910</td>\n",
       "      <td>1330</td>\n",
       "      <td>SK에너지</td>\n",
       "      <td>셀프</td>\n",
       "    </tr>\n",
       "    <tr>\n",
       "      <th>2</th>\n",
       "      <td>강원 강릉시</td>\n",
       "      <td>(주)명진에너지 사천지점</td>\n",
       "      <td>강원도 강릉시 사천면 동해대로 3576</td>\n",
       "      <td>20200909</td>\n",
       "      <td>1339</td>\n",
       "      <td>SK에너지</td>\n",
       "      <td>셀프</td>\n",
       "    </tr>\n",
       "    <tr>\n",
       "      <th>3</th>\n",
       "      <td>강원 강릉시</td>\n",
       "      <td>(주)명진에너지 사천지점</td>\n",
       "      <td>강원도 강릉시 사천면 동해대로 3576</td>\n",
       "      <td>20200910</td>\n",
       "      <td>1339</td>\n",
       "      <td>SK에너지</td>\n",
       "      <td>셀프</td>\n",
       "    </tr>\n",
       "    <tr>\n",
       "      <th>4</th>\n",
       "      <td>강원 강릉시</td>\n",
       "      <td>(주)삼보물류 삼보주유소</td>\n",
       "      <td>강원 강릉시 동해대로 3970</td>\n",
       "      <td>20200909</td>\n",
       "      <td>1347</td>\n",
       "      <td>S-OIL</td>\n",
       "      <td>일반</td>\n",
       "    </tr>\n",
       "  </tbody>\n",
       "</table>\n",
       "</div>"
      ],
      "text/plain": [
       "     sido          os_nm                new_adr  trade_dt  oil_price  \\\n",
       "0  강원 강릉시    (주)동해에너지주유소   강원 강릉시 경강로 2101(임당동)  20200909       1330   \n",
       "1  강원 강릉시    (주)동해에너지주유소   강원 강릉시 경강로 2101(임당동)  20200910       1330   \n",
       "2  강원 강릉시  (주)명진에너지 사천지점  강원도 강릉시 사천면 동해대로 3576  20200909       1339   \n",
       "3  강원 강릉시  (주)명진에너지 사천지점  강원도 강릉시 사천면 동해대로 3576  20200910       1339   \n",
       "4  강원 강릉시  (주)삼보물류 삼보주유소       강원 강릉시 동해대로 3970  20200909       1347   \n",
       "\n",
       "  poll_div_cd self_yn  \n",
       "0       SK에너지      셀프  \n",
       "1       SK에너지      셀프  \n",
       "2       SK에너지      셀프  \n",
       "3       SK에너지      셀프  \n",
       "4       S-OIL      일반  "
      ]
     },
     "execution_count": 12,
     "metadata": {},
     "output_type": "execute_result"
    }
   ],
   "source": [
    "oil_final_raw = pd.DataFrame({\"sigunm\" : oil_final[\"지역\"],\n",
    "                         \"os_nm\": oil_final[\"상호\"],\n",
    "                         \"new_adr\": oil_final[\"주소\"],\n",
    "                         \"trade_dt\": oil_final[\"기간\"],\n",
    "                         \"oil_price\": oil_final[\"휘발유\"],\n",
    "                         \"poll_div_cd\": oil_final[\"상표\"],\n",
    "                         \"self_yn\": oil_final[\"셀프여부\"]})\n",
    "oil_final_raw.head()"
   ]
  },
  {
   "cell_type": "code",
   "execution_count": 48,
   "metadata": {
    "ExecuteTime": {
     "end_time": "2020-10-18T05:08:09.003243Z",
     "start_time": "2020-10-18T05:08:07.948064Z"
    }
   },
   "outputs": [
    {
     "data": {
      "text/html": [
       "<div>\n",
       "<style scoped>\n",
       "    .dataframe tbody tr th:only-of-type {\n",
       "        vertical-align: middle;\n",
       "    }\n",
       "\n",
       "    .dataframe tbody tr th {\n",
       "        vertical-align: top;\n",
       "    }\n",
       "\n",
       "    .dataframe thead th {\n",
       "        text-align: right;\n",
       "    }\n",
       "</style>\n",
       "<table border=\"1\" class=\"dataframe\">\n",
       "  <thead>\n",
       "    <tr style=\"text-align: right;\">\n",
       "      <th></th>\n",
       "      <th>sido</th>\n",
       "      <th>os_nm</th>\n",
       "      <th>new_adr</th>\n",
       "      <th>trade_dt</th>\n",
       "      <th>oil_price</th>\n",
       "      <th>poll_div_cd</th>\n",
       "      <th>self_yn</th>\n",
       "      <th>si</th>\n",
       "      <th>gu</th>\n",
       "    </tr>\n",
       "  </thead>\n",
       "  <tbody>\n",
       "    <tr>\n",
       "      <th>3011225</th>\n",
       "      <td>경북 구미시</td>\n",
       "      <td>낙동강구미주유소/충전소</td>\n",
       "      <td></td>\n",
       "      <td>20191222</td>\n",
       "      <td>1495</td>\n",
       "      <td>SK에너지</td>\n",
       "      <td>일반</td>\n",
       "      <td></td>\n",
       "      <td></td>\n",
       "    </tr>\n",
       "    <tr>\n",
       "      <th>3022677</th>\n",
       "      <td>경북 구미시</td>\n",
       "      <td>낙동강구미주유소/충전소</td>\n",
       "      <td></td>\n",
       "      <td>20191221</td>\n",
       "      <td>1495</td>\n",
       "      <td>SK에너지</td>\n",
       "      <td>일반</td>\n",
       "      <td></td>\n",
       "      <td></td>\n",
       "    </tr>\n",
       "    <tr>\n",
       "      <th>3034150</th>\n",
       "      <td>경북 구미시</td>\n",
       "      <td>낙동강구미주유소/충전소</td>\n",
       "      <td></td>\n",
       "      <td>20191220</td>\n",
       "      <td>1495</td>\n",
       "      <td>SK에너지</td>\n",
       "      <td>일반</td>\n",
       "      <td></td>\n",
       "      <td></td>\n",
       "    </tr>\n",
       "    <tr>\n",
       "      <th>3045633</th>\n",
       "      <td>경북 구미시</td>\n",
       "      <td>낙동강구미주유소/충전소</td>\n",
       "      <td></td>\n",
       "      <td>20191219</td>\n",
       "      <td>1492</td>\n",
       "      <td>SK에너지</td>\n",
       "      <td>일반</td>\n",
       "      <td></td>\n",
       "      <td></td>\n",
       "    </tr>\n",
       "    <tr>\n",
       "      <th>3057112</th>\n",
       "      <td>경북 구미시</td>\n",
       "      <td>낙동강구미주유소/충전소</td>\n",
       "      <td></td>\n",
       "      <td>20191218</td>\n",
       "      <td>1490</td>\n",
       "      <td>SK에너지</td>\n",
       "      <td>일반</td>\n",
       "      <td></td>\n",
       "      <td></td>\n",
       "    </tr>\n",
       "    <tr>\n",
       "      <th>...</th>\n",
       "      <td>...</td>\n",
       "      <td>...</td>\n",
       "      <td>...</td>\n",
       "      <td>...</td>\n",
       "      <td>...</td>\n",
       "      <td>...</td>\n",
       "      <td>...</td>\n",
       "      <td>...</td>\n",
       "      <td>...</td>\n",
       "    </tr>\n",
       "    <tr>\n",
       "      <th>24421106</th>\n",
       "      <td>충북 청원군</td>\n",
       "      <td>현대오일뱅크㈜직영 오창산단주유소</td>\n",
       "      <td></td>\n",
       "      <td>20150101</td>\n",
       "      <td>1485</td>\n",
       "      <td>S-OIL</td>\n",
       "      <td>셀프</td>\n",
       "      <td></td>\n",
       "      <td></td>\n",
       "    </tr>\n",
       "    <tr>\n",
       "      <th>24421107</th>\n",
       "      <td>충북 청원군</td>\n",
       "      <td>현대주유소</td>\n",
       "      <td></td>\n",
       "      <td>20150101</td>\n",
       "      <td>1569</td>\n",
       "      <td>현대오일뱅크</td>\n",
       "      <td>일반</td>\n",
       "      <td></td>\n",
       "      <td></td>\n",
       "    </tr>\n",
       "    <tr>\n",
       "      <th>24421108</th>\n",
       "      <td>충북 청원군</td>\n",
       "      <td>현도주유소</td>\n",
       "      <td></td>\n",
       "      <td>20150101</td>\n",
       "      <td>1529</td>\n",
       "      <td>현대오일뱅크</td>\n",
       "      <td>일반</td>\n",
       "      <td></td>\n",
       "      <td></td>\n",
       "    </tr>\n",
       "    <tr>\n",
       "      <th>24421109</th>\n",
       "      <td>충북 청원군</td>\n",
       "      <td>호반주유소</td>\n",
       "      <td></td>\n",
       "      <td>20150101</td>\n",
       "      <td>1599</td>\n",
       "      <td>S-OIL</td>\n",
       "      <td>일반</td>\n",
       "      <td></td>\n",
       "      <td></td>\n",
       "    </tr>\n",
       "    <tr>\n",
       "      <th>24421110</th>\n",
       "      <td>충북 청원군</td>\n",
       "      <td>화진1주유소</td>\n",
       "      <td></td>\n",
       "      <td>20150101</td>\n",
       "      <td>1625</td>\n",
       "      <td>S-OIL</td>\n",
       "      <td>일반</td>\n",
       "      <td></td>\n",
       "      <td></td>\n",
       "    </tr>\n",
       "  </tbody>\n",
       "</table>\n",
       "<p>31833 rows × 9 columns</p>\n",
       "</div>"
      ],
      "text/plain": [
       "            sido              os_nm new_adr  trade_dt  oil_price poll_div_cd  \\\n",
       "3011225   경북 구미시       낙동강구미주유소/충전소          20191222       1495       SK에너지   \n",
       "3022677   경북 구미시       낙동강구미주유소/충전소          20191221       1495       SK에너지   \n",
       "3034150   경북 구미시       낙동강구미주유소/충전소          20191220       1495       SK에너지   \n",
       "3045633   경북 구미시       낙동강구미주유소/충전소          20191219       1492       SK에너지   \n",
       "3057112   경북 구미시       낙동강구미주유소/충전소          20191218       1490       SK에너지   \n",
       "...          ...                ...     ...       ...        ...         ...   \n",
       "24421106  충북 청원군  현대오일뱅크㈜직영 오창산단주유소          20150101       1485       S-OIL   \n",
       "24421107  충북 청원군              현대주유소          20150101       1569      현대오일뱅크   \n",
       "24421108  충북 청원군              현도주유소          20150101       1529      현대오일뱅크   \n",
       "24421109  충북 청원군              호반주유소          20150101       1599       S-OIL   \n",
       "24421110  충북 청원군             화진1주유소          20150101       1625       S-OIL   \n",
       "\n",
       "         self_yn si gu  \n",
       "3011225       일반        \n",
       "3022677       일반        \n",
       "3034150       일반        \n",
       "3045633       일반        \n",
       "3057112       일반        \n",
       "...          ... .. ..  \n",
       "24421106      셀프        \n",
       "24421107      일반        \n",
       "24421108      일반        \n",
       "24421109      일반        \n",
       "24421110      일반        \n",
       "\n",
       "[31833 rows x 9 columns]"
      ]
     },
     "execution_count": 48,
     "metadata": {},
     "output_type": "execute_result"
    }
   ],
   "source": [
    "oil_final_raw[oil_final_raw[\"new_adr\"] == \" \"]"
   ]
  },
  {
   "cell_type": "code",
   "execution_count": 53,
   "metadata": {
    "ExecuteTime": {
     "end_time": "2020-10-18T05:09:53.701260Z",
     "start_time": "2020-10-18T05:09:53.688320Z"
    }
   },
   "outputs": [
    {
     "data": {
      "text/plain": [
       "''"
      ]
     },
     "execution_count": 53,
     "metadata": {},
     "output_type": "execute_result"
    }
   ],
   "source": [
    "eachAddress = \" \"\n",
    "eachAddress.split(\" \")[0]"
   ]
  },
  {
   "cell_type": "code",
   "execution_count": 54,
   "metadata": {
    "ExecuteTime": {
     "end_time": "2020-10-18T05:09:54.951916Z",
     "start_time": "2020-10-18T05:09:54.930971Z"
    }
   },
   "outputs": [
    {
     "ename": "IndexError",
     "evalue": "list index out of range",
     "output_type": "error",
     "traceback": [
      "\u001b[1;31m---------------------------------------------------------------------------\u001b[0m",
      "\u001b[1;31mIndexError\u001b[0m                                Traceback (most recent call last)",
      "\u001b[1;32m<ipython-input-54-41ce8af44dce>\u001b[0m in \u001b[0;36m<module>\u001b[1;34m\u001b[0m\n\u001b[0;32m      1\u001b[0m \u001b[0meachAddress\u001b[0m \u001b[1;33m=\u001b[0m \u001b[1;34m\" \"\u001b[0m\u001b[1;33m\u001b[0m\u001b[1;33m\u001b[0m\u001b[0m\n\u001b[1;32m----> 2\u001b[1;33m \u001b[0meachAddress\u001b[0m\u001b[1;33m.\u001b[0m\u001b[0msplit\u001b[0m\u001b[1;33m(\u001b[0m\u001b[1;33m)\u001b[0m\u001b[1;33m[\u001b[0m\u001b[1;36m0\u001b[0m\u001b[1;33m]\u001b[0m\u001b[1;33m\u001b[0m\u001b[1;33m\u001b[0m\u001b[0m\n\u001b[0m",
      "\u001b[1;31mIndexError\u001b[0m: list index out of range"
     ]
    }
   ],
   "source": [
    "eachAddress = \" \"\n",
    "eachAddress.split()[0]"
   ]
  },
  {
   "cell_type": "code",
   "execution_count": 55,
   "metadata": {
    "ExecuteTime": {
     "end_time": "2020-10-18T05:10:12.732458Z",
     "start_time": "2020-10-18T05:10:00.781898Z"
    }
   },
   "outputs": [],
   "source": [
    "# 구 이름 추출 \n",
    "oil_final_raw['si']  = [eachAddress.split(\" \")[0] for eachAddress in oil_final_raw[\"new_adr\"]] "
   ]
  },
  {
   "cell_type": "code",
   "execution_count": 56,
   "metadata": {
    "ExecuteTime": {
     "end_time": "2020-10-18T05:10:48.232657Z",
     "start_time": "2020-10-18T05:10:36.204821Z"
    }
   },
   "outputs": [],
   "source": [
    "# 구 이름 추출 \n",
    "oil_final_raw['gu']  = [eachAddress.split(\" \")[1] for eachAddress in oil_final_raw[\"new_adr\"]] "
   ]
  },
  {
   "cell_type": "code",
   "execution_count": 57,
   "metadata": {
    "ExecuteTime": {
     "end_time": "2020-10-18T05:11:29.000532Z",
     "start_time": "2020-10-18T05:11:28.978579Z"
    }
   },
   "outputs": [
    {
     "data": {
      "text/html": [
       "<div>\n",
       "<style scoped>\n",
       "    .dataframe tbody tr th:only-of-type {\n",
       "        vertical-align: middle;\n",
       "    }\n",
       "\n",
       "    .dataframe tbody tr th {\n",
       "        vertical-align: top;\n",
       "    }\n",
       "\n",
       "    .dataframe thead th {\n",
       "        text-align: right;\n",
       "    }\n",
       "</style>\n",
       "<table border=\"1\" class=\"dataframe\">\n",
       "  <thead>\n",
       "    <tr style=\"text-align: right;\">\n",
       "      <th></th>\n",
       "      <th>sido</th>\n",
       "      <th>os_nm</th>\n",
       "      <th>new_adr</th>\n",
       "      <th>trade_dt</th>\n",
       "      <th>oil_price</th>\n",
       "      <th>poll_div_cd</th>\n",
       "      <th>self_yn</th>\n",
       "      <th>si</th>\n",
       "      <th>gu</th>\n",
       "    </tr>\n",
       "  </thead>\n",
       "  <tbody>\n",
       "    <tr>\n",
       "      <th>0</th>\n",
       "      <td>강원 강릉시</td>\n",
       "      <td>(주)동해에너지주유소</td>\n",
       "      <td>강원 강릉시 경강로 2101(임당동)</td>\n",
       "      <td>20200909</td>\n",
       "      <td>1330</td>\n",
       "      <td>SK에너지</td>\n",
       "      <td>셀프</td>\n",
       "      <td>강원</td>\n",
       "      <td>강릉시</td>\n",
       "    </tr>\n",
       "    <tr>\n",
       "      <th>1</th>\n",
       "      <td>강원 강릉시</td>\n",
       "      <td>(주)동해에너지주유소</td>\n",
       "      <td>강원 강릉시 경강로 2101(임당동)</td>\n",
       "      <td>20200910</td>\n",
       "      <td>1330</td>\n",
       "      <td>SK에너지</td>\n",
       "      <td>셀프</td>\n",
       "      <td>강원</td>\n",
       "      <td>강릉시</td>\n",
       "    </tr>\n",
       "    <tr>\n",
       "      <th>2</th>\n",
       "      <td>강원 강릉시</td>\n",
       "      <td>(주)명진에너지 사천지점</td>\n",
       "      <td>강원도 강릉시 사천면 동해대로 3576</td>\n",
       "      <td>20200909</td>\n",
       "      <td>1339</td>\n",
       "      <td>SK에너지</td>\n",
       "      <td>셀프</td>\n",
       "      <td>강원도</td>\n",
       "      <td>강릉시</td>\n",
       "    </tr>\n",
       "    <tr>\n",
       "      <th>3</th>\n",
       "      <td>강원 강릉시</td>\n",
       "      <td>(주)명진에너지 사천지점</td>\n",
       "      <td>강원도 강릉시 사천면 동해대로 3576</td>\n",
       "      <td>20200910</td>\n",
       "      <td>1339</td>\n",
       "      <td>SK에너지</td>\n",
       "      <td>셀프</td>\n",
       "      <td>강원도</td>\n",
       "      <td>강릉시</td>\n",
       "    </tr>\n",
       "    <tr>\n",
       "      <th>4</th>\n",
       "      <td>강원 강릉시</td>\n",
       "      <td>(주)삼보물류 삼보주유소</td>\n",
       "      <td>강원 강릉시 동해대로 3970</td>\n",
       "      <td>20200909</td>\n",
       "      <td>1347</td>\n",
       "      <td>S-OIL</td>\n",
       "      <td>일반</td>\n",
       "      <td>강원</td>\n",
       "      <td>강릉시</td>\n",
       "    </tr>\n",
       "  </tbody>\n",
       "</table>\n",
       "</div>"
      ],
      "text/plain": [
       "     sido          os_nm                new_adr  trade_dt  oil_price  \\\n",
       "0  강원 강릉시    (주)동해에너지주유소   강원 강릉시 경강로 2101(임당동)  20200909       1330   \n",
       "1  강원 강릉시    (주)동해에너지주유소   강원 강릉시 경강로 2101(임당동)  20200910       1330   \n",
       "2  강원 강릉시  (주)명진에너지 사천지점  강원도 강릉시 사천면 동해대로 3576  20200909       1339   \n",
       "3  강원 강릉시  (주)명진에너지 사천지점  강원도 강릉시 사천면 동해대로 3576  20200910       1339   \n",
       "4  강원 강릉시  (주)삼보물류 삼보주유소       강원 강릉시 동해대로 3970  20200909       1347   \n",
       "\n",
       "  poll_div_cd self_yn   si   gu  \n",
       "0       SK에너지      셀프   강원  강릉시  \n",
       "1       SK에너지      셀프   강원  강릉시  \n",
       "2       SK에너지      셀프  강원도  강릉시  \n",
       "3       SK에너지      셀프  강원도  강릉시  \n",
       "4       S-OIL      일반   강원  강릉시  "
      ]
     },
     "execution_count": 57,
     "metadata": {},
     "output_type": "execute_result"
    }
   ],
   "source": [
    "oil_final_raw.head()"
   ]
  },
  {
   "cell_type": "code",
   "execution_count": 58,
   "metadata": {
    "ExecuteTime": {
     "end_time": "2020-10-18T05:11:44.530010Z",
     "start_time": "2020-10-18T05:11:42.471516Z"
    }
   },
   "outputs": [
    {
     "data": {
      "text/plain": [
       "array(['강원', '강원도', '', '경기', '경기도', '경남', '경상남도', '경북', '경상북도', '경상',\n",
       "       '광주', '광주광역시', '광주시', '대구', '대구광역시', '대전', '대전광역시', '부산', '부산광역시',\n",
       "       '서울', '서울특별시', '세종', '세종시', '세종특별자치시', '울산', '울산광역시', '인천',\n",
       "       '인천광역시', '전남', '전라남도', '전북', '전라', '전라북도', '제주', '제주특별자치도', '제주도',\n",
       "       '충남', '충청남도', '청남', '충북', '충청북도', '충청', '대구시', '남원시', '부산시', '북도'],\n",
       "      dtype=object)"
      ]
     },
     "execution_count": 58,
     "metadata": {},
     "output_type": "execute_result"
    }
   ],
   "source": [
    "# unique() 검사 \n",
    "oil_final_raw[\"si\"].unique() # 잘 뽑혔는지 확인"
   ]
  },
  {
   "cell_type": "code",
   "execution_count": 59,
   "metadata": {
    "ExecuteTime": {
     "end_time": "2020-10-18T05:12:11.090810Z",
     "start_time": "2020-10-18T05:12:08.897677Z"
    }
   },
   "outputs": [
    {
     "data": {
      "text/plain": [
       "array(['강릉시', '고성군', '동해시', '삼척시', '속초시', '양구군', '양양군', '영월군', '원주시',\n",
       "       '인제군', '강원', '정선군', '철원군', '춘천시', '태백시', '평창군', '홍천군', '화천군',\n",
       "       '강원도', '횡성군', '가평군', '고양시', '경기도', '고양시일산서구', '과천시', '광명시', '광주시',\n",
       "       '광주', '구리시', '군포시', '김포시', '남양주시', '남양주', '동두천시', '부천시', '성남시',\n",
       "       '수원시', '시흥시', '안산시', '안성시', '안양시', '양주시', '양평군', '여주시', '여주군',\n",
       "       '연천군', '오산시', '용인시', '경기', '의왕시', '의정부시', '이천시', '파주시', '평택시',\n",
       "       '포천시', '하남시', '화성시', '거제시', '거창군', '김해시', '남해군', '밀양시', '사천시',\n",
       "       '산청군', '양산시', '의령군', '진주시', '창녕군', '창원시', '통영시', '하동군', '함안군',\n",
       "       '경상남도', '함양군', '합천군', '경산시', '경북', '경주시', '고령군', '구미시', '경상북도',\n",
       "       '군위군', '김천시', '문경시', '봉화군', '상주시', '성주군', '안동시', '영덕군', '영양군',\n",
       "       '영주시', '영천시', '예천군', '울릉군', '울진군', '의성군', '청도군', '청송군', '칠곡군',\n",
       "       '칠곡', '포항시', '광산구', '남구', '동구', '북구', '서구', '달서구', '달성군', '수성구',\n",
       "       '중구', '대덕구', '유성구', '광역시', '강서구', '금정구', '기장군', '동래구', '부산진구',\n",
       "       '사상구', '사하구', '수영구', '연제구', '영도구', '해운대구', '강남구', '강동구', '강북구',\n",
       "       '관악구', '광진구', '구로구', '금천구', '노원구', '도봉구', '서울특별시', '동대문구', '동작구',\n",
       "       '마포구', '서대문구', '서초구', '성동구', '성북구', '송파구', '양천구', '영등포구', '용산구',\n",
       "       '은평구', '종로구', '중랑구', '전의면', '조치원읍', '부강면', '소담로', '금송로', '연기면',\n",
       "       '다정북로', '마음안로', '연동면', '금남면', '장군면', '세종로', '전동면', '소정면', '금남구즉로',\n",
       "       '연서면', '갈매로', '어울로', '국책연구원3로', '보듬5로', '다솜로', '울주군', '강화군', '계양구',\n",
       "       '남동구', '미추홀구', '부평구', '연수구', '옹진군', '강진군', '고흥군', '곡성군', '광양시',\n",
       "       '구례군', '나주시', '담양군', '목포시', '무안군', '보성군', '순천시', '신안군', '여수시',\n",
       "       '영광군', '영암군', '완도군', '전라남도', '장성군', '장흥군', '진도군', '함평군', '해남군',\n",
       "       '전남', '화순군', '고창군', '군산시', '김제시', '남원시', '무주군', '부안군', '순창군',\n",
       "       '완주군', '익산시', '임실군', '장수군', '전주시', '정읍시', '진안군', '전라북도', '서귀포시',\n",
       "       '제주시', '구좌읍', '계룡시', '공주시', '금산군', '논산시', '당진시', '보령시', '부여군',\n",
       "       '서산시', '서천군', '아산시', '충청남도', '예산군', '천안시', '천안', '청양군', '태안군',\n",
       "       '충남', '홍성군', '괴산군', '단양군', '보은군', '영동군', '영동', '옥천군', '음성군', '충북',\n",
       "       '음성', '제천시', '증평군', '진천군', '충청북도', '청주시', '충주시', '9국책연구원3로', '밀양',\n",
       "       '', '청원군', '전북', '주천면', '인천광역시'], dtype=object)"
      ]
     },
     "execution_count": 59,
     "metadata": {},
     "output_type": "execute_result"
    }
   ],
   "source": [
    "# unique() 검사 \n",
    "oil_final_raw[\"gu\"].unique() # 잘 뽑혔는지 확인"
   ]
  }
 ],
 "metadata": {
  "kernelspec": {
   "display_name": "Python 3",
   "language": "python",
   "name": "python3"
  },
  "language_info": {
   "codemirror_mode": {
    "name": "ipython",
    "version": 3
   },
   "file_extension": ".py",
   "mimetype": "text/x-python",
   "name": "python",
   "nbconvert_exporter": "python",
   "pygments_lexer": "ipython3",
   "version": "3.8.0"
  },
  "toc": {
   "base_numbering": 1,
   "nav_menu": {},
   "number_sections": true,
   "sideBar": true,
   "skip_h1_title": false,
   "title_cell": "Table of Contents",
   "title_sidebar": "Contents",
   "toc_cell": false,
   "toc_position": {},
   "toc_section_display": true,
   "toc_window_display": false
  },
  "varInspector": {
   "cols": {
    "lenName": 16,
    "lenType": 16,
    "lenVar": 40
   },
   "kernels_config": {
    "python": {
     "delete_cmd_postfix": "",
     "delete_cmd_prefix": "del ",
     "library": "var_list.py",
     "varRefreshCmd": "print(var_dic_list())"
    },
    "r": {
     "delete_cmd_postfix": ") ",
     "delete_cmd_prefix": "rm(",
     "library": "var_list.r",
     "varRefreshCmd": "cat(var_dic_list()) "
    }
   },
   "types_to_exclude": [
    "module",
    "function",
    "builtin_function_or_method",
    "instance",
    "_Feature"
   ],
   "window_display": false
  }
 },
 "nbformat": 4,
 "nbformat_minor": 4
}
