{
 "cells": [
  {
   "cell_type": "code",
   "execution_count": 2,
   "metadata": {
    "ExecuteTime": {
     "end_time": "2020-10-18T01:43:40.425987Z",
     "start_time": "2020-10-18T01:43:38.556954Z"
    }
   },
   "outputs": [
    {
     "name": "stdout",
     "output_type": "stream",
     "text": [
      "Collecting selenium\n",
      "  Using cached selenium-3.141.0-py2.py3-none-any.whl (904 kB)\n",
      "Requirement already satisfied: urllib3 in c:\\users\\sung\\pycharmprojects\\pygame\\venv\\lib\\site-packages (from selenium) (1.25.10)\n",
      "Installing collected packages: selenium\n",
      "Successfully installed selenium-3.141.0\n"
     ]
    },
    {
     "name": "stderr",
     "output_type": "stream",
     "text": [
      "WARNING: You are using pip version 20.2.3; however, version 20.2.4 is available.\n",
      "You should consider upgrading via the 'c:\\users\\sung\\pycharmprojects\\pygame\\venv\\scripts\\python.exe -m pip install --upgrade pip' command.\n"
     ]
    }
   ],
   "source": [
    "!pip install selenium"
   ]
  },
  {
   "cell_type": "markdown",
   "metadata": {},
   "source": [
    "# 오피넷 추가 정보 "
   ]
  },
  {
   "cell_type": "code",
   "execution_count": 1,
   "metadata": {
    "ExecuteTime": {
     "end_time": "2020-10-18T06:21:45.827908Z",
     "start_time": "2020-10-18T06:21:42.443914Z"
    }
   },
   "outputs": [],
   "source": [
    "from selenium import webdriver\n",
    "driver = webdriver.Chrome(\"C:/Users/Sung/Downloads/chromedriver.exe\")\n",
    "driver.get(\"http://www.opinet.co.kr\") # 오피넷 접속 "
   ]
  },
  {
   "cell_type": "code",
   "execution_count": 2,
   "metadata": {
    "ExecuteTime": {
     "end_time": "2020-10-18T06:21:47.819582Z",
     "start_time": "2020-10-18T06:21:47.791656Z"
    }
   },
   "outputs": [],
   "source": [
    "# 싼 주유소 찾기  \n",
    "# http://www.opinet.co.kr/searRgSelect.do -> 작동 안함, javascript 로 막음 \n",
    "driver.execute_script(\"return goSubPage(0,0,99)\")"
   ]
  },
  {
   "cell_type": "markdown",
   "metadata": {},
   "source": [
    "## 시도 리스트 "
   ]
  },
  {
   "cell_type": "code",
   "execution_count": 3,
   "metadata": {
    "ExecuteTime": {
     "end_time": "2020-10-18T06:21:50.364775Z",
     "start_time": "2020-10-18T06:21:50.280002Z"
    }
   },
   "outputs": [
    {
     "data": {
      "text/plain": [
       "['서울특별시',\n",
       " '부산광역시',\n",
       " '대구광역시',\n",
       " '인천광역시',\n",
       " '광주광역시',\n",
       " '대전광역시',\n",
       " '울산광역시',\n",
       " '세종특별자치시',\n",
       " '경기도',\n",
       " '강원도',\n",
       " '충청북도',\n",
       " '충청남도',\n",
       " '전라북도',\n",
       " '전라남도',\n",
       " '경상북도',\n",
       " '경상남도',\n",
       " '제주특별자치도']"
      ]
     },
     "execution_count": 3,
     "metadata": {},
     "output_type": "execute_result"
    }
   ],
   "source": [
    "# 시군구 리스트 \n",
    "si_list_raw = driver.find_element_by_css_selector(\"#SIDO_NM0\")\n",
    "# find_elements (find_all) / find_element (find)\n",
    "si_list = si_list_raw.find_elements_by_tag_name(\"option\") # 하위 option tag \n",
    "\n",
    "# 시군구 네임 가져오기 \n",
    "si_names = [option.get_attribute(\"value\") for option in si_list]\n",
    "si_names.remove('')\n",
    "si_names"
   ]
  },
  {
   "cell_type": "markdown",
   "metadata": {},
   "source": [
    "## 군구 리스트 "
   ]
  },
  {
   "cell_type": "code",
   "execution_count": 4,
   "metadata": {
    "ExecuteTime": {
     "end_time": "2020-10-18T06:21:54.066876Z",
     "start_time": "2020-10-18T06:21:53.959190Z"
    },
    "scrolled": true
   },
   "outputs": [
    {
     "data": {
      "text/plain": [
       "['강남구',\n",
       " '강동구',\n",
       " '강북구',\n",
       " '강서구',\n",
       " '관악구',\n",
       " '광진구',\n",
       " '구로구',\n",
       " '금천구',\n",
       " '노원구',\n",
       " '도봉구',\n",
       " '동대문구',\n",
       " '동작구',\n",
       " '마포구',\n",
       " '서대문구',\n",
       " '서초구',\n",
       " '성동구',\n",
       " '성북구',\n",
       " '송파구',\n",
       " '양천구',\n",
       " '영등포구',\n",
       " '용산구',\n",
       " '은평구',\n",
       " '종로구',\n",
       " '중구',\n",
       " '중랑구']"
      ]
     },
     "execution_count": 4,
     "metadata": {},
     "output_type": "execute_result"
    }
   ],
   "source": [
    "# 시군구 리스트 \n",
    "gu_list_raw = driver.find_element_by_xpath(\"\"\"//*[@id=\"SIGUNGU_NM0\"]\"\"\")\n",
    "# find_elements (find_all) / find_element (find)\n",
    "gu_list = gu_list_raw.find_elements_by_tag_name(\"option\") # 하위 option tag \n",
    "\n",
    "# 시군구 네임 가져오기 \n",
    "gu_names = [option.get_attribute(\"value\") for option in gu_list]\n",
    "gu_names.remove('')\n",
    "gu_names"
   ]
  },
  {
   "cell_type": "markdown",
   "metadata": {},
   "source": [
    "## 시군구 dict test"
   ]
  },
  {
   "cell_type": "code",
   "execution_count": 5,
   "metadata": {
    "ExecuteTime": {
     "end_time": "2020-10-18T06:21:58.156965Z",
     "start_time": "2020-10-18T06:21:56.069520Z"
    }
   },
   "outputs": [
    {
     "data": {
      "text/plain": [
       "{'광주광역시': ['광산구', '남구', '동구', '북구', '서구']}"
      ]
     },
     "execution_count": 5,
     "metadata": {},
     "output_type": "execute_result"
    }
   ],
   "source": [
    "import time\n",
    "# 시군구 dict 만들기 \n",
    "si_gu_list = {}\n",
    "si = si_names[4]\n",
    "element = driver.find_element_by_id(\"SIDO_NM0\")\n",
    "element.send_keys(si)\n",
    "time.sleep(2)\n",
    "\n",
    "gu_list_raw = driver.find_element_by_xpath(\"\"\"//*[@id=\"SIGUNGU_NM0\"]\"\"\")\n",
    "# find_elements (find_all) / find_element (find)\n",
    "gu_list = gu_list_raw.find_elements_by_tag_name(\"option\") # 하위 option tag \n",
    "\n",
    "# 시군구 네임 가져오기 \n",
    "gu_names = [option.get_attribute(\"value\") for option in gu_list]\n",
    "gu_names.remove('')\n",
    "si_gu_list[si] = gu_names\n",
    "si_gu_list"
   ]
  },
  {
   "cell_type": "markdown",
   "metadata": {},
   "source": [
    "## 시군구 dict "
   ]
  },
  {
   "cell_type": "code",
   "execution_count": 6,
   "metadata": {
    "ExecuteTime": {
     "end_time": "2020-10-18T06:22:37.248719Z",
     "start_time": "2020-10-18T06:22:01.621697Z"
    }
   },
   "outputs": [],
   "source": [
    "# 시군구 dict 만들기 \n",
    "import time \n",
    "from tqdm import tqdm_notebook \n",
    "\n",
    "si_len = len(si_names)\n",
    "si_gu_list = {}\n",
    "\n",
    "for i in range(si_len):\n",
    "    # 시군구 dict 만들기 \n",
    "    si = si_names[i]\n",
    "    element = driver.find_element_by_id(\"SIDO_NM0\")\n",
    "    element.send_keys(si)\n",
    "    time.sleep(2)\n",
    "\n",
    "    gu_list_raw = driver.find_element_by_xpath(\"\"\"//*[@id=\"SIGUNGU_NM0\"]\"\"\")\n",
    "    gu_list = gu_list_raw.find_elements_by_tag_name(\"option\") # 하위 option tag \n",
    "    \n",
    "    gu_names = [option.get_attribute(\"value\") for option in gu_list]\n",
    "    gu_names.remove('')\n",
    "    si_gu_list[si] = gu_names  "
   ]
  },
  {
   "cell_type": "markdown",
   "metadata": {},
   "source": [
    "## 부가정보 선택 "
   ]
  },
  {
   "cell_type": "code",
   "execution_count": 10,
   "metadata": {
    "ExecuteTime": {
     "end_time": "2020-10-18T05:20:02.945952Z",
     "start_time": "2020-10-18T05:20:02.875141Z"
    }
   },
   "outputs": [],
   "source": [
    "# 세차장 선택 \n",
    "car_wash = driver.find_element_by_css_selector('#CWSH_YN').click()\n",
    "car_wash = driver.find_element_by_css_selector('#CWSH_YN').click()"
   ]
  },
  {
   "cell_type": "code",
   "execution_count": 79,
   "metadata": {
    "ExecuteTime": {
     "end_time": "2020-10-18T02:23:58.005880Z",
     "start_time": "2020-10-18T02:23:57.938065Z"
    }
   },
   "outputs": [],
   "source": [
    "# 경정비 선택\n",
    "repair = driver.find_element_by_css_selector('#MAINT_YN').click()\n",
    "repair = driver.find_element_by_css_selector('#MAINT_YN').click()"
   ]
  },
  {
   "cell_type": "code",
   "execution_count": 87,
   "metadata": {
    "ExecuteTime": {
     "end_time": "2020-10-18T02:24:41.979488Z",
     "start_time": "2020-10-18T02:24:41.914649Z"
    }
   },
   "outputs": [],
   "source": [
    "# 편의점 선택 \n",
    "conv_store = driver.find_element_by_css_selector('#CVS_YN').click()\n",
    "conv_store = driver.find_element_by_css_selector('#CVS_YN').click()"
   ]
  },
  {
   "cell_type": "code",
   "execution_count": 89,
   "metadata": {
    "ExecuteTime": {
     "end_time": "2020-10-18T02:24:43.563241Z",
     "start_time": "2020-10-18T02:24:43.491432Z"
    }
   },
   "outputs": [],
   "source": [
    "# 24시간 선택 \n",
    "all247 = driver.find_element_by_css_selector('#SEL24_YN').click()\n",
    "all247 = driver.find_element_by_css_selector('#SEL24_YN').click()"
   ]
  },
  {
   "cell_type": "markdown",
   "metadata": {},
   "source": [
    "# 시군구 전체 주유소 가져오기 "
   ]
  },
  {
   "cell_type": "markdown",
   "metadata": {},
   "source": [
    "## 24시간 더미"
   ]
  },
  {
   "cell_type": "code",
   "execution_count": 41,
   "metadata": {
    "ExecuteTime": {
     "end_time": "2020-10-18T05:22:51.250259Z",
     "start_time": "2020-10-18T05:22:51.238264Z"
    }
   },
   "outputs": [
    {
     "data": {
      "text/plain": [
       "17"
      ]
     },
     "execution_count": 41,
     "metadata": {},
     "output_type": "execute_result"
    }
   ],
   "source": [
    "len(si_names)"
   ]
  },
  {
   "cell_type": "code",
   "execution_count": 43,
   "metadata": {
    "ExecuteTime": {
     "end_time": "2020-10-18T05:23:03.612365Z",
     "start_time": "2020-10-18T05:23:03.593415Z"
    }
   },
   "outputs": [
    {
     "data": {
      "text/plain": [
       "{'서울특별시': ['강남구',\n",
       "  '강동구',\n",
       "  '강북구',\n",
       "  '강서구',\n",
       "  '관악구',\n",
       "  '광진구',\n",
       "  '구로구',\n",
       "  '금천구',\n",
       "  '노원구',\n",
       "  '도봉구',\n",
       "  '동대문구',\n",
       "  '동작구',\n",
       "  '마포구',\n",
       "  '서대문구',\n",
       "  '서초구',\n",
       "  '성동구',\n",
       "  '성북구',\n",
       "  '송파구',\n",
       "  '양천구',\n",
       "  '영등포구',\n",
       "  '용산구',\n",
       "  '은평구',\n",
       "  '종로구',\n",
       "  '중구',\n",
       "  '중랑구'],\n",
       " '부산광역시': ['강서구',\n",
       "  '금정구',\n",
       "  '기장군',\n",
       "  '남구',\n",
       "  '동구',\n",
       "  '동래구',\n",
       "  '부산진구',\n",
       "  '북구',\n",
       "  '사상구',\n",
       "  '사하구',\n",
       "  '서구',\n",
       "  '수영구',\n",
       "  '연제구',\n",
       "  '영도구',\n",
       "  '중구',\n",
       "  '해운대구'],\n",
       " '대구광역시': ['남구', '달서구', '달성군', '동구', '북구', '서구', '수성구', '중구'],\n",
       " '인천광역시': ['강화군', '계양구', '남동구', '동구', '미추홀구', '부평구', '서구', '연수구', '옹진군', '중구'],\n",
       " '광주광역시': ['광산구', '남구', '동구', '북구', '서구'],\n",
       " '대전광역시': ['대덕구', '동구', '서구', '유성구', '중구'],\n",
       " '울산광역시': ['남구', '동구', '북구', '울주군', '중구'],\n",
       " '세종특별자치시': ['세종시'],\n",
       " '경기도': ['가평군',\n",
       "  '고양시',\n",
       "  '고양시덕양구',\n",
       "  '고양시일산동구',\n",
       "  '고양시일산서구',\n",
       "  '과천시',\n",
       "  '광명시',\n",
       "  '광주시',\n",
       "  '구리시',\n",
       "  '군포시',\n",
       "  '김포시',\n",
       "  '남양주시',\n",
       "  '동두천시',\n",
       "  '부천시',\n",
       "  '성남시',\n",
       "  '성남시분당구',\n",
       "  '성남시수정구',\n",
       "  '성남시중원구',\n",
       "  '수원시',\n",
       "  '수원시권선구',\n",
       "  '수원시영통구',\n",
       "  '수원시장안구',\n",
       "  '수원시팔달구',\n",
       "  '시흥시',\n",
       "  '안산시',\n",
       "  '안산시단원구',\n",
       "  '안산시상록구',\n",
       "  '안성시',\n",
       "  '안양시',\n",
       "  '안양시동안구',\n",
       "  '안양시만안구',\n",
       "  '양주시',\n",
       "  '양평군',\n",
       "  '여주시',\n",
       "  '연천군',\n",
       "  '오산시',\n",
       "  '용인시',\n",
       "  '용인시기흥구',\n",
       "  '용인시수지구',\n",
       "  '용인시처인구',\n",
       "  '의왕시',\n",
       "  '의정부시',\n",
       "  '이천시',\n",
       "  '파주시',\n",
       "  '평택시',\n",
       "  '포천시',\n",
       "  '하남시',\n",
       "  '화성시'],\n",
       " '강원도': ['강릉시',\n",
       "  '고성군',\n",
       "  '동해시',\n",
       "  '삼척시',\n",
       "  '속초시',\n",
       "  '양구군',\n",
       "  '양양군',\n",
       "  '영월군',\n",
       "  '원주시',\n",
       "  '인제군',\n",
       "  '정선군',\n",
       "  '철원군',\n",
       "  '춘천시',\n",
       "  '태백시',\n",
       "  '평창군',\n",
       "  '홍천군',\n",
       "  '화천군',\n",
       "  '횡성군'],\n",
       " '충청북도': ['괴산군',\n",
       "  '단양군',\n",
       "  '보은군',\n",
       "  '영동군',\n",
       "  '옥천군',\n",
       "  '음성군',\n",
       "  '제천시',\n",
       "  '증평군',\n",
       "  '진천군',\n",
       "  '청주시',\n",
       "  '청주시상당구',\n",
       "  '청주시서원구',\n",
       "  '청주시청원구',\n",
       "  '청주시흥덕구',\n",
       "  '충주시'],\n",
       " '충청남도': ['계룡시',\n",
       "  '공주시',\n",
       "  '금산군',\n",
       "  '논산시',\n",
       "  '당진시',\n",
       "  '보령시',\n",
       "  '부여군',\n",
       "  '서산시',\n",
       "  '서천군',\n",
       "  '아산시',\n",
       "  '연기군',\n",
       "  '예산군',\n",
       "  '천안시',\n",
       "  '천안시동남구',\n",
       "  '천안시서북구',\n",
       "  '청양군',\n",
       "  '태안군',\n",
       "  '홍성군'],\n",
       " '전라북도': ['고창군',\n",
       "  '군산시',\n",
       "  '김제시',\n",
       "  '남원시',\n",
       "  '무주군',\n",
       "  '부안군',\n",
       "  '순창군',\n",
       "  '완주군',\n",
       "  '익산시',\n",
       "  '임실군',\n",
       "  '장수군',\n",
       "  '전주시',\n",
       "  '전주시덕진구',\n",
       "  '전주시완산구',\n",
       "  '정읍시',\n",
       "  '진안군'],\n",
       " '전라남도': ['강진군',\n",
       "  '고흥군',\n",
       "  '곡성군',\n",
       "  '광양시',\n",
       "  '구례군',\n",
       "  '나주시',\n",
       "  '담양군',\n",
       "  '목포시',\n",
       "  '무안군',\n",
       "  '보성군',\n",
       "  '순천시',\n",
       "  '신안군',\n",
       "  '여수시',\n",
       "  '영광군',\n",
       "  '영암군',\n",
       "  '완도군',\n",
       "  '장성군',\n",
       "  '장흥군',\n",
       "  '진도군',\n",
       "  '함평군',\n",
       "  '해남군',\n",
       "  '화순군'],\n",
       " '경상북도': ['경산시',\n",
       "  '경주시',\n",
       "  '고령군',\n",
       "  '구미시',\n",
       "  '군위군',\n",
       "  '김천시',\n",
       "  '문경시',\n",
       "  '봉화군',\n",
       "  '상주시',\n",
       "  '성주군',\n",
       "  '안동시',\n",
       "  '영덕군',\n",
       "  '영양군',\n",
       "  '영주시',\n",
       "  '영천시',\n",
       "  '예천군',\n",
       "  '울릉군',\n",
       "  '울진군',\n",
       "  '의성군',\n",
       "  '청도군',\n",
       "  '청송군',\n",
       "  '칠곡군',\n",
       "  '포항시',\n",
       "  '포항시남구',\n",
       "  '포항시북구'],\n",
       " '경상남도': ['거제시',\n",
       "  '거창군',\n",
       "  '고성군',\n",
       "  '김해시',\n",
       "  '남해군',\n",
       "  '밀양시',\n",
       "  '사천시',\n",
       "  '산청군',\n",
       "  '양산시',\n",
       "  '의령군',\n",
       "  '진주시',\n",
       "  '창녕군',\n",
       "  '창원시',\n",
       "  '창원시마산합포구',\n",
       "  '창원시마산회원구',\n",
       "  '창원시성산구',\n",
       "  '창원시의창구',\n",
       "  '창원시진해구',\n",
       "  '통영시',\n",
       "  '하동군',\n",
       "  '함안군',\n",
       "  '함양군',\n",
       "  '합천군'],\n",
       " '제주특별자치도': ['서귀포시', '제주시']}"
      ]
     },
     "execution_count": 43,
     "metadata": {},
     "output_type": "execute_result"
    }
   ],
   "source": [
    "si_gu_list"
   ]
  },
  {
   "cell_type": "code",
   "execution_count": 7,
   "metadata": {
    "ExecuteTime": {
     "end_time": "2020-10-18T06:22:50.120808Z",
     "start_time": "2020-10-18T06:22:50.079941Z"
    }
   },
   "outputs": [],
   "source": [
    "# 24시간 선택\n",
    "all247 = driver.find_element_by_css_selector('#SEL24_YN').click()"
   ]
  },
  {
   "cell_type": "code",
   "execution_count": 8,
   "metadata": {
    "ExecuteTime": {
     "end_time": "2020-10-18T06:47:00.115926Z",
     "start_time": "2020-10-18T06:22:55.074555Z"
    }
   },
   "outputs": [
    {
     "name": "stdout",
     "output_type": "stream",
     "text": [
      "0\n",
      "1\n",
      "2\n",
      "3\n",
      "4\n",
      "5\n",
      "6\n",
      "7\n",
      "8\n",
      "9\n",
      "10\n",
      "11\n",
      "12\n",
      "13\n",
      "14\n",
      "15\n",
      "16\n"
     ]
    }
   ],
   "source": [
    "# 지역별 주유소 찾기 \n",
    "import time \n",
    "from tqdm import tqdm_notebook\n",
    "\n",
    "si_len = len(si_names)\n",
    "for i in range(si_len):\n",
    "    \n",
    "    print(i)\n",
    "    \n",
    "    # 시 입력 \n",
    "    si = si_names[i]\n",
    "    element = driver.find_element_by_id(\"SIDO_NM0\")\n",
    "    element.send_keys(si)\n",
    "    time.sleep(2)\n",
    "    \n",
    "    # 구 입력 \n",
    "    gu_len = len(si_gu_list[si])\n",
    "    for j in range(gu_len):\n",
    "\n",
    "        element = driver.find_element_by_id(\"SIGUNGU_NM0\")\n",
    "        element.send_keys(si_gu_list[si][j])\n",
    "        time.sleep(2)\n",
    "\n",
    "        # 조회 버튼 \n",
    "        xpath = \"\"\"//*[@id=\"searRgSelect\"]/span\"\"\"\n",
    "        element_sel_gu = driver.find_element_by_xpath(xpath).click()\n",
    "\n",
    "        time.sleep(1)\n",
    "\n",
    "        # 엑셀 저장 \n",
    "        xpath = \"\"\"//*[@id=\"glopopd_excel\"]/span\"\"\"\n",
    "        element_get_excel = driver.find_element_by_xpath(xpath).click()\n",
    "\n",
    "        time.sleep(1)"
   ]
  },
  {
   "cell_type": "code",
   "execution_count": null,
   "metadata": {},
   "outputs": [],
   "source": []
  },
  {
   "cell_type": "code",
   "execution_count": null,
   "metadata": {},
   "outputs": [],
   "source": []
  },
  {
   "cell_type": "code",
   "execution_count": null,
   "metadata": {},
   "outputs": [],
   "source": []
  },
  {
   "cell_type": "code",
   "execution_count": null,
   "metadata": {},
   "outputs": [],
   "source": []
  },
  {
   "cell_type": "code",
   "execution_count": null,
   "metadata": {},
   "outputs": [],
   "source": []
  },
  {
   "cell_type": "code",
   "execution_count": null,
   "metadata": {},
   "outputs": [],
   "source": []
  },
  {
   "cell_type": "code",
   "execution_count": null,
   "metadata": {},
   "outputs": [],
   "source": []
  },
  {
   "cell_type": "code",
   "execution_count": null,
   "metadata": {},
   "outputs": [],
   "source": []
  },
  {
   "cell_type": "code",
   "execution_count": null,
   "metadata": {},
   "outputs": [],
   "source": []
  }
 ],
 "metadata": {
  "kernelspec": {
   "display_name": "Python 3",
   "language": "python",
   "name": "python3"
  },
  "language_info": {
   "codemirror_mode": {
    "name": "ipython",
    "version": 3
   },
   "file_extension": ".py",
   "mimetype": "text/x-python",
   "name": "python",
   "nbconvert_exporter": "python",
   "pygments_lexer": "ipython3",
   "version": "3.8.0"
  },
  "toc": {
   "base_numbering": 1,
   "nav_menu": {},
   "number_sections": true,
   "sideBar": true,
   "skip_h1_title": false,
   "title_cell": "Table of Contents",
   "title_sidebar": "Contents",
   "toc_cell": false,
   "toc_position": {},
   "toc_section_display": true,
   "toc_window_display": false
  },
  "varInspector": {
   "cols": {
    "lenName": 16,
    "lenType": 16,
    "lenVar": 40
   },
   "kernels_config": {
    "python": {
     "delete_cmd_postfix": "",
     "delete_cmd_prefix": "del ",
     "library": "var_list.py",
     "varRefreshCmd": "print(var_dic_list())"
    },
    "r": {
     "delete_cmd_postfix": ") ",
     "delete_cmd_prefix": "rm(",
     "library": "var_list.r",
     "varRefreshCmd": "cat(var_dic_list()) "
    }
   },
   "types_to_exclude": [
    "module",
    "function",
    "builtin_function_or_method",
    "instance",
    "_Feature"
   ],
   "window_display": false
  }
 },
 "nbformat": 4,
 "nbformat_minor": 4
}
